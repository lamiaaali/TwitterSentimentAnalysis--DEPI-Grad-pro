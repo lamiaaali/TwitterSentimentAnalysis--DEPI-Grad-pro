{
 "cells": [
  {
   "cell_type": "code",
   "execution_count": null,
   "metadata": {
    "_cell_guid": "b1076dfc-b9ad-4769-8c92-a6c4dae69d19",
    "_uuid": "8f2839f25d086af736a60e9eeb907d3b93b6e0e5",
    "execution": {
     "iopub.execute_input": "2024-10-17T10:52:35.910574Z",
     "iopub.status.busy": "2024-10-17T10:52:35.910149Z",
     "iopub.status.idle": "2024-10-17T10:53:09.775884Z",
     "shell.execute_reply": "2024-10-17T10:53:09.774521Z",
     "shell.execute_reply.started": "2024-10-17T10:52:35.910537Z"
    }
   },
   "outputs": [],
   "source": [
    "!pip install emoji"
   ]
  },
  {
   "cell_type": "code",
   "execution_count": null,
   "metadata": {
    "execution": {
     "iopub.execute_input": "2024-10-17T10:53:09.78358Z",
     "iopub.status.busy": "2024-10-17T10:53:09.781442Z",
     "iopub.status.idle": "2024-10-17T10:53:29.153544Z",
     "shell.execute_reply": "2024-10-17T10:53:29.152574Z",
     "shell.execute_reply.started": "2024-10-17T10:53:09.783528Z"
    }
   },
   "outputs": [],
   "source": [
    "#general purpose packages\n",
    "import numpy as np\n",
    "import pandas as pd\n",
    "import tensorflow as tf\n",
    "import matplotlib.pyplot as plt\n",
    "import seaborn as sns\n",
    "\n",
    "#data processing\n",
    "import re, string\n",
    "import emoji\n",
    "import nltk\n",
    "\n",
    "from sklearn import preprocessing\n",
    "from imblearn.over_sampling import RandomOverSampler\n",
    "from sklearn.model_selection import train_test_split\n",
    "\n",
    "#set style for plots\n",
    "sns.set_style(\"whitegrid\")\n",
    "sns.despine()\n",
    "plt.style.use(\"seaborn-whitegrid\")\n",
    "plt.rc(\"figure\", autolayout=True)\n",
    "plt.rc(\"axes\", labelweight=\"bold\", labelsize=\"large\", titleweight=\"bold\", titlepad=10)"
   ]
  },
  {
   "cell_type": "code",
   "execution_count": null,
   "metadata": {
    "execution": {
     "iopub.execute_input": "2024-10-17T11:05:46.827603Z",
     "iopub.status.busy": "2024-10-17T11:05:46.82673Z",
     "iopub.status.idle": "2024-10-17T11:05:47.243549Z",
     "shell.execute_reply": "2024-10-17T11:05:47.241794Z",
     "shell.execute_reply.started": "2024-10-17T11:05:46.827556Z"
    }
   },
   "outputs": [],
   "source": [
    "df = pd.read_csv('/kaggle/input/covid-19-nlp-text-classification/Corona_NLP_train.csv', encoding = 'latin')\n",
    "df_test = pd.read_csv('/kaggle/input/covid-19-nlp-text-classification/Corona_NLP_test.csv', encoding = 'latin')"
   ]
  },
  {
   "cell_type": "markdown",
   "metadata": {},
   "source": [
    "# Data Cleaning"
   ]
  },
  {
   "cell_type": "code",
   "execution_count": null,
   "metadata": {
    "execution": {
     "iopub.execute_input": "2024-10-17T10:53:29.650012Z",
     "iopub.status.busy": "2024-10-17T10:53:29.64777Z",
     "iopub.status.idle": "2024-10-17T10:53:29.703164Z",
     "shell.execute_reply": "2024-10-17T10:53:29.70215Z",
     "shell.execute_reply.started": "2024-10-17T10:53:29.649966Z"
    }
   },
   "outputs": [],
   "source": [
    "# Converting the \"TweetAt\" columns to pandas datetime format\n",
    "df['TweetAt'] = pd.to_datetime(df['TweetAt'])"
   ]
  },
  {
   "cell_type": "code",
   "execution_count": null,
   "metadata": {
    "execution": {
     "iopub.execute_input": "2024-10-17T10:53:29.709499Z",
     "iopub.status.busy": "2024-10-17T10:53:29.70742Z",
     "iopub.status.idle": "2024-10-17T10:53:29.776474Z",
     "shell.execute_reply": "2024-10-17T10:53:29.775497Z",
     "shell.execute_reply.started": "2024-10-17T10:53:29.709455Z"
    }
   },
   "outputs": [],
   "source": [
    "## check duplicates\n",
    "df.duplicated().sum()"
   ]
  },
  {
   "cell_type": "markdown",
   "metadata": {},
   "source": [
    "# Number of tweets per day :"
   ]
  },
  {
   "cell_type": "code",
   "execution_count": null,
   "metadata": {
    "execution": {
     "iopub.execute_input": "2024-10-17T10:53:29.783Z",
     "iopub.status.busy": "2024-10-17T10:53:29.780868Z",
     "iopub.status.idle": "2024-10-17T10:53:30.035875Z",
     "shell.execute_reply": "2024-10-17T10:53:30.034782Z",
     "shell.execute_reply.started": "2024-10-17T10:53:29.782955Z"
    }
   },
   "outputs": [],
   "source": [
    "tweets_per_day = df['TweetAt'].dt.strftime('%m-%d').value_counts().sort_index().reset_index(name='counts')"
   ]
  },
  {
   "cell_type": "code",
   "execution_count": null,
   "metadata": {
    "execution": {
     "iopub.execute_input": "2024-10-17T10:53:30.042611Z",
     "iopub.status.busy": "2024-10-17T10:53:30.040526Z",
     "iopub.status.idle": "2024-10-17T10:53:30.954183Z",
     "shell.execute_reply": "2024-10-17T10:53:30.95301Z",
     "shell.execute_reply.started": "2024-10-17T10:53:30.042561Z"
    }
   },
   "outputs": [],
   "source": [
    "plt.figure(figsize=(20,5))\n",
    "ax = sns.barplot(x='TweetAt', y='counts', data=tweets_per_day,edgecolor = 'black',ci=False, palette='Blues_r')\n",
    "plt.title('Tweets count by date')\n",
    "plt.yticks([])\n",
    "ax.bar_label(ax.containers[0])\n",
    "plt.ylabel('count')\n",
    "plt.xlabel('')\n",
    "plt.show()"
   ]
  },
  {
   "cell_type": "markdown",
   "metadata": {},
   "source": [
    "from the bar chart above, we notice that in the dataset there are some days without tweets in the dataset. Among the days with tweets, most of them are made around the end of March: from 18th of Match to the 26th of March.\n",
    "\n"
   ]
  },
  {
   "cell_type": "markdown",
   "metadata": {},
   "source": [
    "# Number of tweets per Country & City"
   ]
  },
  {
   "cell_type": "code",
   "execution_count": null,
   "metadata": {
    "execution": {
     "iopub.execute_input": "2024-10-17T10:53:30.960374Z",
     "iopub.status.busy": "2024-10-17T10:53:30.958247Z",
     "iopub.status.idle": "2024-10-17T10:53:30.97871Z",
     "shell.execute_reply": "2024-10-17T10:53:30.977708Z",
     "shell.execute_reply.started": "2024-10-17T10:53:30.960329Z"
    }
   },
   "outputs": [],
   "source": [
    "tweets_per_country = df['Location'].value_counts().loc[lambda x : x > 100].reset_index(name='counts')"
   ]
  },
  {
   "cell_type": "code",
   "execution_count": null,
   "metadata": {
    "execution": {
     "iopub.execute_input": "2024-10-17T10:53:30.985198Z",
     "iopub.status.busy": "2024-10-17T10:53:30.983074Z",
     "iopub.status.idle": "2024-10-17T10:53:31.753116Z",
     "shell.execute_reply": "2024-10-17T10:53:31.752101Z",
     "shell.execute_reply.started": "2024-10-17T10:53:30.985149Z"
    }
   },
   "outputs": [],
   "source": [
    "plt.figure(figsize=(15,6))\n",
    "ax = sns.barplot(x='Location', y='counts', data=tweets_per_country,edgecolor = 'black',ci=False, palette='Spectral')\n",
    "plt.title('Tweets count by country')\n",
    "plt.xticks(rotation=70)\n",
    "plt.yticks([])\n",
    "ax.bar_label(ax.containers[0])\n",
    "plt.ylabel('count')\n",
    "plt.xlabel('')\n",
    "plt.show()"
   ]
  },
  {
   "cell_type": "markdown",
   "metadata": {},
   "source": [
    "The chart above explain that the 'location' column contains both countries and cities. It could be interesting to separate cities and countries, however this wont be investigated in this work."
   ]
  },
  {
   "cell_type": "markdown",
   "metadata": {},
   "source": [
    "# Data Preprocessing"
   ]
  },
  {
   "cell_type": "markdown",
   "metadata": {},
   "source": [
    "we will just keep the columns 'Originaltweet' (raw tweets) and the target column 'Sentiment'."
   ]
  },
  {
   "cell_type": "code",
   "execution_count": null,
   "metadata": {
    "execution": {
     "iopub.execute_input": "2024-10-17T10:53:31.762112Z",
     "iopub.status.busy": "2024-10-17T10:53:31.756912Z",
     "iopub.status.idle": "2024-10-17T10:53:31.773669Z",
     "shell.execute_reply": "2024-10-17T10:53:31.772458Z",
     "shell.execute_reply.started": "2024-10-17T10:53:31.762057Z"
    }
   },
   "outputs": [],
   "source": [
    "df = df[['OriginalTweet','Sentiment']]"
   ]
  },
  {
   "cell_type": "code",
   "execution_count": null,
   "metadata": {
    "execution": {
     "iopub.execute_input": "2024-10-17T10:53:31.780508Z",
     "iopub.status.busy": "2024-10-17T10:53:31.778479Z",
     "iopub.status.idle": "2024-10-17T10:53:31.787856Z",
     "shell.execute_reply": "2024-10-17T10:53:31.786944Z",
     "shell.execute_reply.started": "2024-10-17T10:53:31.780467Z"
    }
   },
   "outputs": [],
   "source": [
    "df_test = df_test[['OriginalTweet','Sentiment']]"
   ]
  },
  {
   "cell_type": "code",
   "execution_count": null,
   "metadata": {
    "execution": {
     "iopub.execute_input": "2024-10-17T10:53:31.794376Z",
     "iopub.status.busy": "2024-10-17T10:53:31.792414Z",
     "iopub.status.idle": "2024-10-17T10:53:31.805992Z",
     "shell.execute_reply": "2024-10-17T10:53:31.805129Z",
     "shell.execute_reply.started": "2024-10-17T10:53:31.794335Z"
    }
   },
   "outputs": [],
   "source": [
    "##CUSTOM DEFINED FUNCTIONS TO CLEAN THE TWEETS\n",
    "\n",
    "#Clean emojis from text\n",
    "def strip_emoji(text):\n",
    "    return emoji.replace_emoji(text,replace = '') #remove emoji\n",
    "\n",
    "#Remove punctuations, links, mentions and \\r\\n new line characters\n",
    "def strip_all_entities(text): \n",
    "    text = text.replace('\\r', '').replace('\\n', ' ').replace('\\n', ' ').lower() #remove \\n and \\r and lowercase\n",
    "    text = re.sub(r\"(?:\\@|https?\\://)\\S+\", \"\", text) #remove links and mentions\n",
    "    text = re.sub(r'[^\\x00-\\x7f]',r'', text) #remove non utf8/ascii characters such as '\\x9a\\x91\\x97\\x9a\\x97'\n",
    "    banned_list= string.punctuation + 'Ã'+'±'+'ã'+'¼'+'â'+'»'+'§'\n",
    "    table = str.maketrans('', '', banned_list)\n",
    "    text = text.translate(table)\n",
    "    return text\n",
    "\n",
    "#clean hashtags at the end of the sentence, and keep those in the middle of the sentence by removing just the # symbol\n",
    "def clean_hashtags(tweet):\n",
    "    new_tweet = \" \".join(word.strip() for word in re.split('#(?!(?:hashtag)\\b)[\\w-]+(?=(?:\\s+#[\\w-]+)*\\s*$)', tweet)) #remove last hashtags\n",
    "    new_tweet2 = \" \".join(word.strip() for word in re.split('#|_', new_tweet)) #remove hashtags symbol from words in the middle of the sentence\n",
    "    return new_tweet2\n",
    "\n",
    "#Filter special characters such as & and $ present in some words\n",
    "def filter_chars(a):\n",
    "    sent = []\n",
    "    for word in a.split(' '):\n",
    "        if ('$' in word) | ('&' in word):\n",
    "            sent.append('')\n",
    "        else:\n",
    "            sent.append(word)\n",
    "    return ' '.join(sent)\n",
    "\n",
    "def remove_mult_spaces(text): # remove multiple spaces\n",
    "    return re.sub(\"\\s\\s+\" , \" \", text)"
   ]
  },
  {
   "cell_type": "code",
   "execution_count": null,
   "metadata": {
    "execution": {
     "iopub.execute_input": "2024-10-17T10:53:31.8133Z",
     "iopub.status.busy": "2024-10-17T10:53:31.810751Z",
     "iopub.status.idle": "2024-10-17T10:53:44.272217Z",
     "shell.execute_reply": "2024-10-17T10:53:44.271312Z",
     "shell.execute_reply.started": "2024-10-17T10:53:31.813256Z"
    }
   },
   "outputs": [],
   "source": [
    "texts_new = []\n",
    "for t in df.OriginalTweet:\n",
    "    texts_new.append(remove_mult_spaces(filter_chars(clean_hashtags(strip_all_entities(strip_emoji(t))))))"
   ]
  },
  {
   "cell_type": "code",
   "execution_count": null,
   "metadata": {
    "execution": {
     "iopub.execute_input": "2024-10-17T10:53:44.278627Z",
     "iopub.status.busy": "2024-10-17T10:53:44.276576Z",
     "iopub.status.idle": "2024-10-17T10:53:46.002271Z",
     "shell.execute_reply": "2024-10-17T10:53:46.001132Z",
     "shell.execute_reply.started": "2024-10-17T10:53:44.278585Z"
    }
   },
   "outputs": [],
   "source": [
    "texts_new_test = []\n",
    "for t in df_test.OriginalTweet:\n",
    "    texts_new_test.append(remove_mult_spaces(filter_chars(clean_hashtags(strip_all_entities(strip_emoji(t))))))"
   ]
  },
  {
   "cell_type": "markdown",
   "metadata": {},
   "source": [
    "Now we will create a new column, for both train and test sets, to host the cleaned version of the tweets' text."
   ]
  },
  {
   "cell_type": "code",
   "execution_count": null,
   "metadata": {
    "execution": {
     "iopub.execute_input": "2024-10-17T10:53:46.010958Z",
     "iopub.status.busy": "2024-10-17T10:53:46.008023Z",
     "iopub.status.idle": "2024-10-17T10:53:46.028597Z",
     "shell.execute_reply": "2024-10-17T10:53:46.027376Z",
     "shell.execute_reply.started": "2024-10-17T10:53:46.010897Z"
    }
   },
   "outputs": [],
   "source": [
    "df['text_clean'] = texts_new\n",
    "df_test['text_clean'] = texts_new_test"
   ]
  },
  {
   "cell_type": "code",
   "execution_count": null,
   "metadata": {
    "execution": {
     "iopub.execute_input": "2024-10-17T10:53:46.037694Z",
     "iopub.status.busy": "2024-10-17T10:53:46.034839Z",
     "iopub.status.idle": "2024-10-17T10:53:46.052975Z",
     "shell.execute_reply": "2024-10-17T10:53:46.051767Z",
     "shell.execute_reply.started": "2024-10-17T10:53:46.037619Z"
    }
   },
   "outputs": [],
   "source": [
    "df['text_clean'].head()"
   ]
  },
  {
   "cell_type": "code",
   "execution_count": null,
   "metadata": {
    "execution": {
     "iopub.execute_input": "2024-10-17T10:53:46.061703Z",
     "iopub.status.busy": "2024-10-17T10:53:46.058941Z",
     "iopub.status.idle": "2024-10-17T10:53:46.076127Z",
     "shell.execute_reply": "2024-10-17T10:53:46.074573Z",
     "shell.execute_reply.started": "2024-10-17T10:53:46.061631Z"
    }
   },
   "outputs": [],
   "source": [
    "df_test['text_clean'].head()"
   ]
  },
  {
   "cell_type": "code",
   "execution_count": null,
   "metadata": {
    "execution": {
     "iopub.execute_input": "2024-10-17T10:53:46.084478Z",
     "iopub.status.busy": "2024-10-17T10:53:46.081789Z",
     "iopub.status.idle": "2024-10-17T10:53:46.097104Z",
     "shell.execute_reply": "2024-10-17T10:53:46.095928Z",
     "shell.execute_reply.started": "2024-10-17T10:53:46.084424Z"
    }
   },
   "outputs": [],
   "source": [
    "df['text_clean'][1:8].values"
   ]
  },
  {
   "cell_type": "markdown",
   "metadata": {},
   "source": [
    "Moreover, we will also create a column to host the lenght of the cleaned text, to check if by cleaning the text we removed too much text or almost entirely the tweet!"
   ]
  },
  {
   "cell_type": "code",
   "execution_count": null,
   "metadata": {
    "execution": {
     "iopub.execute_input": "2024-10-17T10:53:46.103275Z",
     "iopub.status.busy": "2024-10-17T10:53:46.102312Z",
     "iopub.status.idle": "2024-10-17T10:53:46.266016Z",
     "shell.execute_reply": "2024-10-17T10:53:46.264909Z",
     "shell.execute_reply.started": "2024-10-17T10:53:46.10322Z"
    }
   },
   "outputs": [],
   "source": [
    "text_len = []\n",
    "for text in df.text_clean:\n",
    "    tweet_len = len(text.split())\n",
    "    text_len.append(tweet_len)"
   ]
  },
  {
   "cell_type": "code",
   "execution_count": null,
   "metadata": {
    "execution": {
     "iopub.execute_input": "2024-10-17T10:53:46.274476Z",
     "iopub.status.busy": "2024-10-17T10:53:46.271609Z",
     "iopub.status.idle": "2024-10-17T10:53:46.304045Z",
     "shell.execute_reply": "2024-10-17T10:53:46.302959Z",
     "shell.execute_reply.started": "2024-10-17T10:53:46.274417Z"
    }
   },
   "outputs": [],
   "source": [
    "df['text_len'] = text_len"
   ]
  },
  {
   "cell_type": "code",
   "execution_count": null,
   "metadata": {
    "execution": {
     "iopub.execute_input": "2024-10-17T10:53:46.31235Z",
     "iopub.status.busy": "2024-10-17T10:53:46.309507Z",
     "iopub.status.idle": "2024-10-17T10:53:46.336566Z",
     "shell.execute_reply": "2024-10-17T10:53:46.335452Z",
     "shell.execute_reply.started": "2024-10-17T10:53:46.312292Z"
    }
   },
   "outputs": [],
   "source": [
    "text_len_test = []\n",
    "for text in df_test.text_clean:\n",
    "    tweet_len = len(text.split())\n",
    "    text_len_test.append(tweet_len)"
   ]
  },
  {
   "cell_type": "code",
   "execution_count": null,
   "metadata": {
    "execution": {
     "iopub.execute_input": "2024-10-17T10:53:46.344514Z",
     "iopub.status.busy": "2024-10-17T10:53:46.34183Z",
     "iopub.status.idle": "2024-10-17T10:53:46.354497Z",
     "shell.execute_reply": "2024-10-17T10:53:46.35334Z",
     "shell.execute_reply.started": "2024-10-17T10:53:46.344459Z"
    }
   },
   "outputs": [],
   "source": [
    "df_test['text_len'] = text_len_test"
   ]
  },
  {
   "cell_type": "code",
   "execution_count": null,
   "metadata": {
    "execution": {
     "iopub.execute_input": "2024-10-17T10:53:46.363239Z",
     "iopub.status.busy": "2024-10-17T10:53:46.360474Z",
     "iopub.status.idle": "2024-10-17T10:53:46.854545Z",
     "shell.execute_reply": "2024-10-17T10:53:46.853425Z",
     "shell.execute_reply.started": "2024-10-17T10:53:46.363181Z"
    }
   },
   "outputs": [],
   "source": [
    "plt.figure(figsize=(7,5))\n",
    "ax = sns.countplot(x='text_len', data=df[df['text_len']<10], palette='mako')\n",
    "plt.title('Training tweets with less than 10 words')\n",
    "plt.yticks([])\n",
    "ax.bar_label(ax.containers[0])\n",
    "plt.ylabel('count')\n",
    "plt.xlabel('')\n",
    "plt.show()"
   ]
  },
  {
   "cell_type": "code",
   "execution_count": null,
   "metadata": {
    "execution": {
     "iopub.execute_input": "2024-10-17T10:53:46.862863Z",
     "iopub.status.busy": "2024-10-17T10:53:46.859986Z",
     "iopub.status.idle": "2024-10-17T10:53:47.225539Z",
     "shell.execute_reply": "2024-10-17T10:53:47.224699Z",
     "shell.execute_reply.started": "2024-10-17T10:53:46.8628Z"
    }
   },
   "outputs": [],
   "source": [
    "plt.figure(figsize=(7,5))\n",
    "ax = sns.countplot(x='text_len', data=df_test[df_test['text_len']<10], palette='mako')\n",
    "plt.title('Test tweets with less than 10 words')\n",
    "plt.yticks([])\n",
    "ax.bar_label(ax.containers[0])\n",
    "plt.ylabel('count')\n",
    "plt.xlabel('')\n",
    "plt.show()"
   ]
  },
  {
   "cell_type": "markdown",
   "metadata": {},
   "source": [
    "As we can see, there are lots of cleaned tweets with 0 words: this is due to the cleaning performed before. This means that some tweets contained only mentions, hashtags and links, which have been removed. We will drop these empty tweets and also those with less than 5 words."
   ]
  },
  {
   "cell_type": "code",
   "execution_count": null,
   "metadata": {
    "execution": {
     "iopub.execute_input": "2024-10-17T10:53:47.231632Z",
     "iopub.status.busy": "2024-10-17T10:53:47.229627Z",
     "iopub.status.idle": "2024-10-17T10:53:47.239771Z",
     "shell.execute_reply": "2024-10-17T10:53:47.238922Z",
     "shell.execute_reply.started": "2024-10-17T10:53:47.231591Z"
    }
   },
   "outputs": [],
   "source": [
    "print(f\" DF SHAPE: {df.shape}\")\n",
    "print(f\" DF TEST SHAPE: {df_test.shape}\")"
   ]
  },
  {
   "cell_type": "code",
   "execution_count": null,
   "metadata": {
    "execution": {
     "iopub.execute_input": "2024-10-17T10:53:47.246187Z",
     "iopub.status.busy": "2024-10-17T10:53:47.243935Z",
     "iopub.status.idle": "2024-10-17T10:53:47.258236Z",
     "shell.execute_reply": "2024-10-17T10:53:47.257114Z",
     "shell.execute_reply.started": "2024-10-17T10:53:47.246147Z"
    }
   },
   "outputs": [],
   "source": [
    "df = df[df['text_len'] > 4]"
   ]
  },
  {
   "cell_type": "code",
   "execution_count": null,
   "metadata": {
    "execution": {
     "iopub.execute_input": "2024-10-17T10:53:47.264583Z",
     "iopub.status.busy": "2024-10-17T10:53:47.26255Z",
     "iopub.status.idle": "2024-10-17T10:53:47.272922Z",
     "shell.execute_reply": "2024-10-17T10:53:47.271933Z",
     "shell.execute_reply.started": "2024-10-17T10:53:47.264543Z"
    }
   },
   "outputs": [],
   "source": [
    "print(f\" DF SHAPE: {df.shape}\")\n",
    "print(f\" DF TEST SHAPE: {df_test.shape}\")"
   ]
  },
  {
   "cell_type": "markdown",
   "metadata": {},
   "source": [
    "We will use bert tokenizer to perform tokenization\n",
    "\n",
    "\n",
    "[ ]\n",
    "23s\n"
   ]
  },
  {
   "cell_type": "code",
   "execution_count": null,
   "metadata": {
    "execution": {
     "iopub.execute_input": "2024-10-17T10:53:47.284165Z",
     "iopub.status.busy": "2024-10-17T10:53:47.281791Z",
     "iopub.status.idle": "2024-10-17T10:53:47.289766Z",
     "shell.execute_reply": "2024-10-17T10:53:47.288829Z",
     "shell.execute_reply.started": "2024-10-17T10:53:47.284118Z"
    }
   },
   "outputs": [],
   "source": [
    "from transformers import BertTokenizerFast"
   ]
  },
  {
   "cell_type": "code",
   "execution_count": null,
   "metadata": {
    "execution": {
     "iopub.execute_input": "2024-10-17T10:53:47.29678Z",
     "iopub.status.busy": "2024-10-17T10:53:47.294295Z",
     "iopub.status.idle": "2024-10-17T10:55:47.861549Z",
     "shell.execute_reply": "2024-10-17T10:55:47.859077Z",
     "shell.execute_reply.started": "2024-10-17T10:53:47.296723Z"
    }
   },
   "outputs": [],
   "source": [
    "tokenizer = BertTokenizerFast.from_pretrained('bert-base-uncased')"
   ]
  },
  {
   "cell_type": "code",
   "execution_count": null,
   "metadata": {
    "execution": {
     "iopub.execute_input": "2024-10-17T10:58:33.066526Z",
     "iopub.status.busy": "2024-10-17T10:58:33.066083Z",
     "iopub.status.idle": "2024-10-17T10:58:33.121675Z",
     "shell.execute_reply": "2024-10-17T10:58:33.119368Z",
     "shell.execute_reply.started": "2024-10-17T10:58:33.06649Z"
    }
   },
   "outputs": [],
   "source": [
    "token_lens = []\n",
    "\n",
    "for txt in df['text_clean'].values:\n",
    "    tokens = tokenizer.encode(txt, max_length=512, truncation=True)\n",
    "    token_lens.append(len(tokens))\n",
    "    \n",
    "max_len=np.max(token_lens)"
   ]
  },
  {
   "cell_type": "code",
   "execution_count": null,
   "metadata": {},
   "outputs": [],
   "source": []
  },
  {
   "cell_type": "code",
   "execution_count": null,
   "metadata": {
    "execution": {
     "iopub.status.busy": "2024-10-17T10:55:47.871538Z",
     "iopub.status.idle": "2024-10-17T10:55:47.873899Z",
     "shell.execute_reply": "2024-10-17T10:55:47.873655Z",
     "shell.execute_reply.started": "2024-10-17T10:55:47.873611Z"
    }
   },
   "outputs": [],
   "source": [
    "print(f\"MAX TOKENIZED SENTENCE LENGTH: {max_len}\")"
   ]
  },
  {
   "cell_type": "markdown",
   "metadata": {},
   "source": [
    "Let's check the long tokenized sentences (with more than 80 tokens ):"
   ]
  },
  {
   "cell_type": "code",
   "execution_count": null,
   "metadata": {
    "execution": {
     "iopub.status.busy": "2024-10-17T10:55:47.876719Z",
     "iopub.status.idle": "2024-10-17T10:55:47.87746Z",
     "shell.execute_reply": "2024-10-17T10:55:47.87725Z",
     "shell.execute_reply.started": "2024-10-17T10:55:47.877226Z"
    }
   },
   "outputs": [],
   "source": [
    "token_lens = []\n",
    "\n",
    "for i,txt in enumerate(df['text_clean'].values):\n",
    "    tokens = tokenizer.encode(txt, max_length=512, truncation=True)\n",
    "    token_lens.append(len(tokens))\n",
    "    if len(tokens)>80:\n",
    "        print(f\"INDEX: {i}, TEXT: {txt}\")  "
   ]
  },
  {
   "cell_type": "markdown",
   "metadata": {},
   "source": [
    "These sentences are not in english. They should be dropped.\n"
   ]
  },
  {
   "cell_type": "code",
   "execution_count": null,
   "metadata": {
    "execution": {
     "iopub.status.busy": "2024-10-17T10:55:47.882263Z",
     "iopub.status.idle": "2024-10-17T10:55:47.883073Z",
     "shell.execute_reply": "2024-10-17T10:55:47.882841Z",
     "shell.execute_reply.started": "2024-10-17T10:55:47.882816Z"
    }
   },
   "outputs": [],
   "source": [
    "df['token_lens'] = token_lens"
   ]
  },
  {
   "cell_type": "code",
   "execution_count": null,
   "metadata": {},
   "outputs": [],
   "source": [
    "df = df.iloc[12:]\n",
    "df.head()"
   ]
  },
  {
   "cell_type": "markdown",
   "metadata": {},
   "source": [
    "The dataset looks more clean now. We will shuffle it and reset the index."
   ]
  },
  {
   "cell_type": "code",
   "execution_count": null,
   "metadata": {
    "execution": {
     "iopub.execute_input": "2024-10-17T10:59:43.520842Z",
     "iopub.status.busy": "2024-10-17T10:59:43.520407Z",
     "iopub.status.idle": "2024-10-17T10:59:43.558187Z",
     "shell.execute_reply": "2024-10-17T10:59:43.557146Z",
     "shell.execute_reply.started": "2024-10-17T10:59:43.520804Z"
    }
   },
   "outputs": [],
   "source": [
    "df = df.sample(frac=1).reset_index(drop=True)"
   ]
  },
  {
   "cell_type": "code",
   "execution_count": null,
   "metadata": {
    "execution": {
     "iopub.execute_input": "2024-10-17T10:59:54.320207Z",
     "iopub.status.busy": "2024-10-17T10:59:54.319379Z",
     "iopub.status.idle": "2024-10-17T10:59:54.883678Z",
     "shell.execute_reply": "2024-10-17T10:59:54.882812Z",
     "shell.execute_reply.started": "2024-10-17T10:59:54.320159Z"
    }
   },
   "outputs": [],
   "source": [
    "df.to_csv('covid_19_Cleaned_data.csv')"
   ]
  },
  {
   "cell_type": "markdown",
   "metadata": {},
   "source": [
    "# Test data deeper cleaning"
   ]
  },
  {
   "cell_type": "markdown",
   "metadata": {},
   "source": [
    "We will perform the data cleaning based on the tokenized sentences on the test set."
   ]
  },
  {
   "cell_type": "code",
   "execution_count": null,
   "metadata": {
    "execution": {
     "iopub.execute_input": "2024-10-17T11:00:49.634021Z",
     "iopub.status.busy": "2024-10-17T11:00:49.633513Z",
     "iopub.status.idle": "2024-10-17T11:00:49.689782Z",
     "shell.execute_reply": "2024-10-17T11:00:49.68715Z",
     "shell.execute_reply.started": "2024-10-17T11:00:49.633975Z"
    }
   },
   "outputs": [],
   "source": [
    "token_lens_test = []\n",
    "\n",
    "for txt in df_test['text_clean'].values:\n",
    "    tokens = tokenizer.encode(txt, max_length=512, truncation=True)\n",
    "    token_lens_test.append(len(tokens))\n",
    "    \n",
    "max_len=np.max(token_lens_test)"
   ]
  },
  {
   "cell_type": "code",
   "execution_count": null,
   "metadata": {
    "execution": {
     "iopub.execute_input": "2024-10-17T11:01:00.261665Z",
     "iopub.status.busy": "2024-10-17T11:01:00.25811Z",
     "iopub.status.idle": "2024-10-17T11:01:00.318189Z",
     "shell.execute_reply": "2024-10-17T11:01:00.315202Z",
     "shell.execute_reply.started": "2024-10-17T11:01:00.261597Z"
    }
   },
   "outputs": [],
   "source": [
    "print(f\"MAX TOKENIZED SENTENCE LENGTH: {max_len}\")"
   ]
  },
  {
   "cell_type": "code",
   "execution_count": null,
   "metadata": {
    "execution": {
     "iopub.execute_input": "2024-10-17T11:01:10.708947Z",
     "iopub.status.busy": "2024-10-17T11:01:10.706003Z",
     "iopub.status.idle": "2024-10-17T11:01:10.762196Z",
     "shell.execute_reply": "2024-10-17T11:01:10.759774Z",
     "shell.execute_reply.started": "2024-10-17T11:01:10.708895Z"
    }
   },
   "outputs": [],
   "source": [
    "token_lens_test = []\n",
    "\n",
    "for i,txt in enumerate(df_test['text_clean'].values):\n",
    "    tokens = tokenizer.encode(txt, max_length=512, truncation=True)\n",
    "    token_lens_test.append(len(tokens))\n",
    "    if len(tokens)>80:\n",
    "        print(f\"INDEX: {i}, TEXT: {txt}\")"
   ]
  },
  {
   "cell_type": "code",
   "execution_count": null,
   "metadata": {
    "execution": {
     "iopub.execute_input": "2024-10-17T11:01:37.520289Z",
     "iopub.status.busy": "2024-10-17T11:01:37.519659Z",
     "iopub.status.idle": "2024-10-17T11:01:38.736466Z",
     "shell.execute_reply": "2024-10-17T11:01:38.734158Z",
     "shell.execute_reply.started": "2024-10-17T11:01:37.520236Z"
    }
   },
   "outputs": [],
   "source": [
    "df_test['token_lens'] = token_lens_test"
   ]
  },
  {
   "cell_type": "code",
   "execution_count": null,
   "metadata": {},
   "outputs": [],
   "source": [
    "df_test = df_test.sort_values(by='token_lens', ascending=False)\n",
    "df_test.head(10) "
   ]
  },
  {
   "cell_type": "code",
   "execution_count": null,
   "metadata": {},
   "outputs": [],
   "source": [
    "df_test = df_test.iloc[5:]\n",
    "df_test.head(3)"
   ]
  },
  {
   "cell_type": "code",
   "execution_count": null,
   "metadata": {},
   "outputs": [],
   "source": [
    "df_test = df_test.sample(frac=1).reset_index(drop=True)"
   ]
  },
  {
   "cell_type": "code",
   "execution_count": null,
   "metadata": {},
   "outputs": [],
   "source": [
    "df_test.to_csv('Covid_19_Cleaned_TestData.csv')"
   ]
  },
  {
   "cell_type": "markdown",
   "metadata": {},
   "source": [
    "# Machine Learning"
   ]
  },
  {
   "cell_type": "code",
   "execution_count": 1,
   "metadata": {
    "execution": {
     "iopub.execute_input": "2024-10-17T11:34:11.564630Z",
     "iopub.status.busy": "2024-10-17T11:34:11.563900Z",
     "iopub.status.idle": "2024-10-17T11:34:13.983992Z",
     "shell.execute_reply": "2024-10-17T11:34:13.983097Z",
     "shell.execute_reply.started": "2024-10-17T11:34:11.564593Z"
    }
   },
   "outputs": [],
   "source": [
    "import pandas as pd\n",
    "import seaborn as sns\n",
    "import matplotlib.pyplot as plt\n",
    "import numpy as np"
   ]
  },
  {
   "cell_type": "code",
   "execution_count": 51,
   "metadata": {
    "execution": {
     "iopub.execute_input": "2024-10-17T13:15:30.329005Z",
     "iopub.status.busy": "2024-10-17T13:15:30.328595Z",
     "iopub.status.idle": "2024-10-17T13:15:30.526527Z",
     "shell.execute_reply": "2024-10-17T13:15:30.525297Z",
     "shell.execute_reply.started": "2024-10-17T13:15:30.328963Z"
    }
   },
   "outputs": [],
   "source": [
    "df_train= pd.read_csv('/kaggle/input/covid-19-nlp-text-classification/Corona_NLP_train.csv', encoding='ISO-8859-1')\n",
    "df_test= pd.read_csv('/kaggle/input/covid-19-nlp-text-classification/Corona_NLP_test.csv', encoding='ISO-8859-1')\n",
    "df = pd.concat([df_train,df_test])"
   ]
  },
  {
   "cell_type": "code",
   "execution_count": 52,
   "metadata": {
    "execution": {
     "iopub.execute_input": "2024-10-17T13:15:35.728819Z",
     "iopub.status.busy": "2024-10-17T13:15:35.728432Z",
     "iopub.status.idle": "2024-10-17T13:15:35.740708Z",
     "shell.execute_reply": "2024-10-17T13:15:35.739750Z",
     "shell.execute_reply.started": "2024-10-17T13:15:35.728779Z"
    }
   },
   "outputs": [
    {
     "data": {
      "text/html": [
       "<div>\n",
       "<style scoped>\n",
       "    .dataframe tbody tr th:only-of-type {\n",
       "        vertical-align: middle;\n",
       "    }\n",
       "\n",
       "    .dataframe tbody tr th {\n",
       "        vertical-align: top;\n",
       "    }\n",
       "\n",
       "    .dataframe thead th {\n",
       "        text-align: right;\n",
       "    }\n",
       "</style>\n",
       "<table border=\"1\" class=\"dataframe\">\n",
       "  <thead>\n",
       "    <tr style=\"text-align: right;\">\n",
       "      <th></th>\n",
       "      <th>UserName</th>\n",
       "      <th>ScreenName</th>\n",
       "      <th>Location</th>\n",
       "      <th>TweetAt</th>\n",
       "      <th>OriginalTweet</th>\n",
       "      <th>Sentiment</th>\n",
       "    </tr>\n",
       "  </thead>\n",
       "  <tbody>\n",
       "    <tr>\n",
       "      <th>0</th>\n",
       "      <td>3799</td>\n",
       "      <td>48751</td>\n",
       "      <td>London</td>\n",
       "      <td>16-03-2020</td>\n",
       "      <td>@MeNyrbie @Phil_Gahan @Chrisitv https://t.co/i...</td>\n",
       "      <td>Neutral</td>\n",
       "    </tr>\n",
       "    <tr>\n",
       "      <th>1</th>\n",
       "      <td>3800</td>\n",
       "      <td>48752</td>\n",
       "      <td>UK</td>\n",
       "      <td>16-03-2020</td>\n",
       "      <td>advice Talk to your neighbours family to excha...</td>\n",
       "      <td>Positive</td>\n",
       "    </tr>\n",
       "    <tr>\n",
       "      <th>2</th>\n",
       "      <td>3801</td>\n",
       "      <td>48753</td>\n",
       "      <td>Vagabonds</td>\n",
       "      <td>16-03-2020</td>\n",
       "      <td>Coronavirus Australia: Woolworths to give elde...</td>\n",
       "      <td>Positive</td>\n",
       "    </tr>\n",
       "    <tr>\n",
       "      <th>3</th>\n",
       "      <td>3802</td>\n",
       "      <td>48754</td>\n",
       "      <td>NaN</td>\n",
       "      <td>16-03-2020</td>\n",
       "      <td>My food stock is not the only one which is emp...</td>\n",
       "      <td>Positive</td>\n",
       "    </tr>\n",
       "    <tr>\n",
       "      <th>4</th>\n",
       "      <td>3803</td>\n",
       "      <td>48755</td>\n",
       "      <td>NaN</td>\n",
       "      <td>16-03-2020</td>\n",
       "      <td>Me, ready to go at supermarket during the #COV...</td>\n",
       "      <td>Extremely Negative</td>\n",
       "    </tr>\n",
       "  </tbody>\n",
       "</table>\n",
       "</div>"
      ],
      "text/plain": [
       "   UserName  ScreenName   Location     TweetAt  \\\n",
       "0      3799       48751     London  16-03-2020   \n",
       "1      3800       48752         UK  16-03-2020   \n",
       "2      3801       48753  Vagabonds  16-03-2020   \n",
       "3      3802       48754        NaN  16-03-2020   \n",
       "4      3803       48755        NaN  16-03-2020   \n",
       "\n",
       "                                       OriginalTweet           Sentiment  \n",
       "0  @MeNyrbie @Phil_Gahan @Chrisitv https://t.co/i...             Neutral  \n",
       "1  advice Talk to your neighbours family to excha...            Positive  \n",
       "2  Coronavirus Australia: Woolworths to give elde...            Positive  \n",
       "3  My food stock is not the only one which is emp...            Positive  \n",
       "4  Me, ready to go at supermarket during the #COV...  Extremely Negative  "
      ]
     },
     "execution_count": 52,
     "metadata": {},
     "output_type": "execute_result"
    }
   ],
   "source": [
    "df.head()"
   ]
  },
  {
   "cell_type": "code",
   "execution_count": 26,
   "metadata": {
    "execution": {
     "iopub.execute_input": "2024-10-17T12:47:43.949649Z",
     "iopub.status.busy": "2024-10-17T12:47:43.949281Z",
     "iopub.status.idle": "2024-10-17T12:47:43.976945Z",
     "shell.execute_reply": "2024-10-17T12:47:43.976026Z",
     "shell.execute_reply.started": "2024-10-17T12:47:43.949612Z"
    }
   },
   "outputs": [
    {
     "name": "stdout",
     "output_type": "stream",
     "text": [
      "<class 'pandas.core.frame.DataFrame'>\n",
      "Index: 44955 entries, 0 to 3797\n",
      "Data columns (total 6 columns):\n",
      " #   Column         Non-Null Count  Dtype \n",
      "---  ------         --------------  ----- \n",
      " 0   UserName       44955 non-null  int64 \n",
      " 1   ScreenName     44955 non-null  int64 \n",
      " 2   Location       35531 non-null  object\n",
      " 3   TweetAt        44955 non-null  object\n",
      " 4   OriginalTweet  44955 non-null  object\n",
      " 5   Sentiment      44955 non-null  object\n",
      "dtypes: int64(2), object(4)\n",
      "memory usage: 2.4+ MB\n"
     ]
    }
   ],
   "source": [
    "df.info()"
   ]
  },
  {
   "cell_type": "code",
   "execution_count": 15,
   "metadata": {
    "execution": {
     "iopub.execute_input": "2024-10-17T11:59:33.638334Z",
     "iopub.status.busy": "2024-10-17T11:59:33.637908Z",
     "iopub.status.idle": "2024-10-17T11:59:33.649909Z",
     "shell.execute_reply": "2024-10-17T11:59:33.648992Z",
     "shell.execute_reply.started": "2024-10-17T11:59:33.638298Z"
    }
   },
   "outputs": [
    {
     "data": {
      "text/html": [
       "<div>\n",
       "<style scoped>\n",
       "    .dataframe tbody tr th:only-of-type {\n",
       "        vertical-align: middle;\n",
       "    }\n",
       "\n",
       "    .dataframe tbody tr th {\n",
       "        vertical-align: top;\n",
       "    }\n",
       "\n",
       "    .dataframe thead th {\n",
       "        text-align: right;\n",
       "    }\n",
       "</style>\n",
       "<table border=\"1\" class=\"dataframe\">\n",
       "  <thead>\n",
       "    <tr style=\"text-align: right;\">\n",
       "      <th></th>\n",
       "      <th>UserName</th>\n",
       "      <th>ScreenName</th>\n",
       "      <th>Location</th>\n",
       "      <th>TweetAt</th>\n",
       "      <th>OriginalTweet</th>\n",
       "      <th>Sentiment</th>\n",
       "    </tr>\n",
       "  </thead>\n",
       "  <tbody>\n",
       "    <tr>\n",
       "      <th>0</th>\n",
       "      <td>1</td>\n",
       "      <td>44953</td>\n",
       "      <td>NYC</td>\n",
       "      <td>02-03-2020</td>\n",
       "      <td>TRENDING: New Yorkers encounter empty supermar...</td>\n",
       "      <td>Extremely Negative</td>\n",
       "    </tr>\n",
       "    <tr>\n",
       "      <th>1</th>\n",
       "      <td>2</td>\n",
       "      <td>44954</td>\n",
       "      <td>Seattle, WA</td>\n",
       "      <td>02-03-2020</td>\n",
       "      <td>When I couldn't find hand sanitizer at Fred Me...</td>\n",
       "      <td>Positive</td>\n",
       "    </tr>\n",
       "    <tr>\n",
       "      <th>2</th>\n",
       "      <td>3</td>\n",
       "      <td>44955</td>\n",
       "      <td>NaN</td>\n",
       "      <td>02-03-2020</td>\n",
       "      <td>Find out how you can protect yourself and love...</td>\n",
       "      <td>Extremely Positive</td>\n",
       "    </tr>\n",
       "    <tr>\n",
       "      <th>3</th>\n",
       "      <td>4</td>\n",
       "      <td>44956</td>\n",
       "      <td>Chicagoland</td>\n",
       "      <td>02-03-2020</td>\n",
       "      <td>#Panic buying hits #NewYork City as anxious sh...</td>\n",
       "      <td>Negative</td>\n",
       "    </tr>\n",
       "    <tr>\n",
       "      <th>4</th>\n",
       "      <td>5</td>\n",
       "      <td>44957</td>\n",
       "      <td>Melbourne, Victoria</td>\n",
       "      <td>03-03-2020</td>\n",
       "      <td>#toiletpaper #dunnypaper #coronavirus #coronav...</td>\n",
       "      <td>Neutral</td>\n",
       "    </tr>\n",
       "  </tbody>\n",
       "</table>\n",
       "</div>"
      ],
      "text/plain": [
       "   UserName  ScreenName             Location     TweetAt  \\\n",
       "0         1       44953                  NYC  02-03-2020   \n",
       "1         2       44954          Seattle, WA  02-03-2020   \n",
       "2         3       44955                  NaN  02-03-2020   \n",
       "3         4       44956          Chicagoland  02-03-2020   \n",
       "4         5       44957  Melbourne, Victoria  03-03-2020   \n",
       "\n",
       "                                       OriginalTweet           Sentiment  \n",
       "0  TRENDING: New Yorkers encounter empty supermar...  Extremely Negative  \n",
       "1  When I couldn't find hand sanitizer at Fred Me...            Positive  \n",
       "2  Find out how you can protect yourself and love...  Extremely Positive  \n",
       "3  #Panic buying hits #NewYork City as anxious sh...            Negative  \n",
       "4  #toiletpaper #dunnypaper #coronavirus #coronav...             Neutral  "
      ]
     },
     "execution_count": 15,
     "metadata": {},
     "output_type": "execute_result"
    }
   ],
   "source": [
    "df_test.head()"
   ]
  },
  {
   "cell_type": "code",
   "execution_count": 16,
   "metadata": {
    "execution": {
     "iopub.execute_input": "2024-10-17T11:59:43.647199Z",
     "iopub.status.busy": "2024-10-17T11:59:43.646219Z",
     "iopub.status.idle": "2024-10-17T11:59:43.659061Z",
     "shell.execute_reply": "2024-10-17T11:59:43.658043Z",
     "shell.execute_reply.started": "2024-10-17T11:59:43.647157Z"
    }
   },
   "outputs": [
    {
     "name": "stdout",
     "output_type": "stream",
     "text": [
      "<class 'pandas.core.frame.DataFrame'>\n",
      "RangeIndex: 3798 entries, 0 to 3797\n",
      "Data columns (total 6 columns):\n",
      " #   Column         Non-Null Count  Dtype \n",
      "---  ------         --------------  ----- \n",
      " 0   UserName       3798 non-null   int64 \n",
      " 1   ScreenName     3798 non-null   int64 \n",
      " 2   Location       2964 non-null   object\n",
      " 3   TweetAt        3798 non-null   object\n",
      " 4   OriginalTweet  3798 non-null   object\n",
      " 5   Sentiment      3798 non-null   object\n",
      "dtypes: int64(2), object(4)\n",
      "memory usage: 178.2+ KB\n"
     ]
    }
   ],
   "source": [
    "df_test.info()"
   ]
  },
  {
   "cell_type": "code",
   "execution_count": 27,
   "metadata": {
    "execution": {
     "iopub.execute_input": "2024-10-17T12:47:54.252824Z",
     "iopub.status.busy": "2024-10-17T12:47:54.252446Z",
     "iopub.status.idle": "2024-10-17T12:47:54.266123Z",
     "shell.execute_reply": "2024-10-17T12:47:54.265115Z",
     "shell.execute_reply.started": "2024-10-17T12:47:54.252784Z"
    }
   },
   "outputs": [
    {
     "data": {
      "text/plain": [
       "Sentiment\n",
       "Positive              12369\n",
       "Negative              10958\n",
       "Neutral                8332\n",
       "Extremely Positive     7223\n",
       "Extremely Negative     6073\n",
       "Name: count, dtype: int64"
      ]
     },
     "execution_count": 27,
     "metadata": {},
     "output_type": "execute_result"
    }
   ],
   "source": [
    "df.Sentiment.value_counts()"
   ]
  },
  {
   "cell_type": "code",
   "execution_count": 33,
   "metadata": {
    "execution": {
     "iopub.execute_input": "2024-10-17T12:50:01.518095Z",
     "iopub.status.busy": "2024-10-17T12:50:01.517710Z",
     "iopub.status.idle": "2024-10-17T12:50:01.672798Z",
     "shell.execute_reply": "2024-10-17T12:50:01.671891Z",
     "shell.execute_reply.started": "2024-10-17T12:50:01.518053Z"
    }
   },
   "outputs": [
    {
     "data": {
      "image/png": "[encoded data removed]",
      "text/plain": [
       "<Figure size 800x600 with 1 Axes>"
      ]
     },
     "metadata": {},
     "output_type": "display_data"
    }
   ],
   "source": [
    "value_counts = df['Sentiment'].value_counts()\n",
    "plt.figure(figsize=(8, 6))\n",
    "value_counts.plot(kind='pie', autopct='%1.1f%%', colors=['skyblue', 'lightgreen', 'lightcoral', 'orange'])\n",
    "plt.title('Sentiment')\n",
    "plt.tight_layout()\n",
    "plt.show()"
   ]
  },
  {
   "cell_type": "code",
   "execution_count": 29,
   "metadata": {
    "execution": {
     "iopub.execute_input": "2024-10-17T12:48:01.353169Z",
     "iopub.status.busy": "2024-10-17T12:48:01.352791Z",
     "iopub.status.idle": "2024-10-17T12:48:01.389364Z",
     "shell.execute_reply": "2024-10-17T12:48:01.388590Z",
     "shell.execute_reply.started": "2024-10-17T12:48:01.353135Z"
    }
   },
   "outputs": [],
   "source": [
    "df['Sentiment'] = df.Sentiment.str.replace('Extremely Positive', 'Positive')\n",
    "df['Sentiment'] = df.Sentiment.str.replace('Extremely Negative', 'Negative')"
   ]
  },
  {
   "cell_type": "code",
   "execution_count": 30,
   "metadata": {
    "execution": {
     "iopub.execute_input": "2024-10-17T12:48:02.585107Z",
     "iopub.status.busy": "2024-10-17T12:48:02.584239Z",
     "iopub.status.idle": "2024-10-17T12:48:02.878280Z",
     "shell.execute_reply": "2024-10-17T12:48:02.877350Z",
     "shell.execute_reply.started": "2024-10-17T12:48:02.585067Z"
    }
   },
   "outputs": [
    {
     "data": {
      "text/plain": [
       "Text(0, 0.5, 'Sentiment')"
      ]
     },
     "execution_count": 30,
     "metadata": {},
     "output_type": "execute_result"
    },
    {
     "data": {
      "image/png": "[encoded data removed]",
      "text/plain": [
       "<Figure size 700x400 with 1 Axes>"
      ]
     },
     "metadata": {},
     "output_type": "display_data"
    }
   ],
   "source": [
    "df.Sentiment.value_counts().plot.bar(figsize=(7,4))\n",
    "plt.xticks(rotation=None)\n",
    "plt.title('Number of tweets in different sentiments',fontsize=12)\n",
    "plt.xlabel('Number of tweets', fontsize=12)\n",
    "plt.ylabel('Sentiment')"
   ]
  },
  {
   "cell_type": "code",
   "execution_count": 80,
   "metadata": {
    "execution": {
     "iopub.execute_input": "2024-10-17T13:44:55.537400Z",
     "iopub.status.busy": "2024-10-17T13:44:55.537005Z",
     "iopub.status.idle": "2024-10-17T13:44:55.767633Z",
     "shell.execute_reply": "2024-10-17T13:44:55.766699Z",
     "shell.execute_reply.started": "2024-10-17T13:44:55.537362Z"
    }
   },
   "outputs": [
    {
     "data": {
      "image/png": "[encoded data removed]",
      "text/plain": [
       "<Figure size 800x600 with 1 Axes>"
      ]
     },
     "metadata": {},
     "output_type": "display_data"
    }
   ],
   "source": [
    "plt.figure(figsize=(8, 6))\n",
    "sns.boxplot(df, x='ScreenName', y='Sentiment')\n",
    "plt.title(\"Boxplot\")\n",
    "plt.show()"
   ]
  },
  {
   "cell_type": "code",
   "execution_count": 64,
   "metadata": {
    "execution": {
     "iopub.execute_input": "2024-10-17T13:20:09.991954Z",
     "iopub.status.busy": "2024-10-17T13:20:09.991022Z",
     "iopub.status.idle": "2024-10-17T13:20:09.997437Z",
     "shell.execute_reply": "2024-10-17T13:20:09.996446Z",
     "shell.execute_reply.started": "2024-10-17T13:20:09.991884Z"
    }
   },
   "outputs": [],
   "source": [
    "import nltk\n",
    "from nltk.corpus import stopwords\n",
    "from nltk.stem.wordnet import WordNetLemmatizer\n",
    "import matplotlib.pyplot as plt\n",
    "import seaborn as sns\n",
    "from wordcloud import WordCloud"
   ]
  },
  {
   "cell_type": "code",
   "execution_count": 53,
   "metadata": {
    "execution": {
     "iopub.execute_input": "2024-10-17T13:15:45.178375Z",
     "iopub.status.busy": "2024-10-17T13:15:45.178000Z",
     "iopub.status.idle": "2024-10-17T13:15:45.185536Z",
     "shell.execute_reply": "2024-10-17T13:15:45.184389Z",
     "shell.execute_reply.started": "2024-10-17T13:15:45.178338Z"
    }
   },
   "outputs": [],
   "source": [
    "comp_df = df[['OriginalTweet','Sentiment']]"
   ]
  },
  {
   "cell_type": "code",
   "execution_count": 54,
   "metadata": {
    "execution": {
     "iopub.execute_input": "2024-10-17T13:15:47.406520Z",
     "iopub.status.busy": "2024-10-17T13:15:47.405849Z",
     "iopub.status.idle": "2024-10-17T13:15:47.415707Z",
     "shell.execute_reply": "2024-10-17T13:15:47.414725Z",
     "shell.execute_reply.started": "2024-10-17T13:15:47.406480Z"
    }
   },
   "outputs": [
    {
     "data": {
      "text/html": [
       "<div>\n",
       "<style scoped>\n",
       "    .dataframe tbody tr th:only-of-type {\n",
       "        vertical-align: middle;\n",
       "    }\n",
       "\n",
       "    .dataframe tbody tr th {\n",
       "        vertical-align: top;\n",
       "    }\n",
       "\n",
       "    .dataframe thead th {\n",
       "        text-align: right;\n",
       "    }\n",
       "</style>\n",
       "<table border=\"1\" class=\"dataframe\">\n",
       "  <thead>\n",
       "    <tr style=\"text-align: right;\">\n",
       "      <th></th>\n",
       "      <th>OriginalTweet</th>\n",
       "      <th>Sentiment</th>\n",
       "    </tr>\n",
       "  </thead>\n",
       "  <tbody>\n",
       "    <tr>\n",
       "      <th>0</th>\n",
       "      <td>@MeNyrbie @Phil_Gahan @Chrisitv https://t.co/i...</td>\n",
       "      <td>Neutral</td>\n",
       "    </tr>\n",
       "    <tr>\n",
       "      <th>1</th>\n",
       "      <td>advice Talk to your neighbours family to excha...</td>\n",
       "      <td>Positive</td>\n",
       "    </tr>\n",
       "    <tr>\n",
       "      <th>2</th>\n",
       "      <td>Coronavirus Australia: Woolworths to give elde...</td>\n",
       "      <td>Positive</td>\n",
       "    </tr>\n",
       "    <tr>\n",
       "      <th>3</th>\n",
       "      <td>My food stock is not the only one which is emp...</td>\n",
       "      <td>Positive</td>\n",
       "    </tr>\n",
       "    <tr>\n",
       "      <th>4</th>\n",
       "      <td>Me, ready to go at supermarket during the #COV...</td>\n",
       "      <td>Extremely Negative</td>\n",
       "    </tr>\n",
       "  </tbody>\n",
       "</table>\n",
       "</div>"
      ],
      "text/plain": [
       "                                       OriginalTweet           Sentiment\n",
       "0  @MeNyrbie @Phil_Gahan @Chrisitv https://t.co/i...             Neutral\n",
       "1  advice Talk to your neighbours family to excha...            Positive\n",
       "2  Coronavirus Australia: Woolworths to give elde...            Positive\n",
       "3  My food stock is not the only one which is emp...            Positive\n",
       "4  Me, ready to go at supermarket during the #COV...  Extremely Negative"
      ]
     },
     "execution_count": 54,
     "metadata": {},
     "output_type": "execute_result"
    }
   ],
   "source": [
    "comp_df.head()"
   ]
  },
  {
   "cell_type": "code",
   "execution_count": 55,
   "metadata": {
    "execution": {
     "iopub.execute_input": "2024-10-17T13:15:49.517794Z",
     "iopub.status.busy": "2024-10-17T13:15:49.516859Z",
     "iopub.status.idle": "2024-10-17T13:15:49.526413Z",
     "shell.execute_reply": "2024-10-17T13:15:49.525450Z",
     "shell.execute_reply.started": "2024-10-17T13:15:49.517751Z"
    }
   },
   "outputs": [
    {
     "data": {
      "text/plain": [
       "0    @MeNyrbie @Phil_Gahan @Chrisitv https://t.co/i...\n",
       "0    TRENDING: New Yorkers encounter empty supermar...\n",
       "Name: OriginalTweet, dtype: object"
      ]
     },
     "execution_count": 55,
     "metadata": {},
     "output_type": "execute_result"
    }
   ],
   "source": [
    "comp_df['OriginalTweet'][0]"
   ]
  },
  {
   "cell_type": "code",
   "execution_count": 56,
   "metadata": {
    "execution": {
     "iopub.execute_input": "2024-10-17T13:15:54.493001Z",
     "iopub.status.busy": "2024-10-17T13:15:54.492159Z",
     "iopub.status.idle": "2024-10-17T13:15:54.497240Z",
     "shell.execute_reply": "2024-10-17T13:15:54.496249Z",
     "shell.execute_reply.started": "2024-10-17T13:15:54.492962Z"
    }
   },
   "outputs": [],
   "source": [
    "comp_df.columns =['tweet','label']"
   ]
  },
  {
   "cell_type": "code",
   "execution_count": 62,
   "metadata": {
    "execution": {
     "iopub.execute_input": "2024-10-17T13:19:18.104878Z",
     "iopub.status.busy": "2024-10-17T13:19:18.104451Z",
     "iopub.status.idle": "2024-10-17T13:19:20.641212Z",
     "shell.execute_reply": "2024-10-17T13:19:20.640265Z",
     "shell.execute_reply.started": "2024-10-17T13:19:18.104837Z"
    }
   },
   "outputs": [
    {
     "name": "stderr",
     "output_type": "stream",
     "text": [
      "/tmp/ipykernel_30/3204402080.py:22: SettingWithCopyWarning: \n",
      "A value is trying to be set on a copy of a slice from a DataFrame.\n",
      "Try using .loc[row_indexer,col_indexer] = value instead\n",
      "\n",
      "See the caveats in the documentation: https://pandas.pydata.org/pandas-docs/stable/user_guide/indexing.html#returning-a-view-versus-a-copy\n",
      "  comp_df.tweet = comp_df.tweet.apply(text_cleaner)\n"
     ]
    }
   ],
   "source": [
    "import re\n",
    "import nltk\n",
    "from nltk.corpus import stopwords\n",
    "def text_cleaner(tweet):   \n",
    "    # remove urls\n",
    "    tweet = re.sub(r'http\\S+', ' ', tweet)  \n",
    "    # remove html tags\n",
    "    tweet = re.sub(r'<.*?>',' ', tweet)\n",
    "    # remove digits\n",
    "    tweet = re.sub(r'\\d+',' ', tweet)    \n",
    "    # remove hashtags\n",
    "    tweet = re.sub(r'#\\w+',' ', tweet)    \n",
    "    # remove mentions\n",
    "    tweet = re.sub(r'@\\w+',' ', tweet)    \n",
    "    #removing stop words\n",
    "    tweet = tweet.split()\n",
    "    tweet = \" \".join([word for word in tweet if not word in stop_words])   \n",
    "    return tweet\n",
    "\n",
    "stop_words = stopwords.words('english')\n",
    "\n",
    "comp_df.tweet = comp_df.tweet.apply(text_cleaner)"
   ]
  },
  {
   "cell_type": "code",
   "execution_count": 63,
   "metadata": {
    "execution": {
     "iopub.execute_input": "2024-10-17T13:19:29.293390Z",
     "iopub.status.busy": "2024-10-17T13:19:29.292719Z",
     "iopub.status.idle": "2024-10-17T13:19:29.301797Z",
     "shell.execute_reply": "2024-10-17T13:19:29.300884Z",
     "shell.execute_reply.started": "2024-10-17T13:19:29.293350Z"
    }
   },
   "outputs": [
    {
     "data": {
      "text/plain": [
       "0                                                     \n",
       "0    trending: new yorkers encounter empty supermar...\n",
       "Name: tweet, dtype: object"
      ]
     },
     "execution_count": 63,
     "metadata": {},
     "output_type": "execute_result"
    }
   ],
   "source": [
    "comp_df.tweet[0]"
   ]
  },
  {
   "cell_type": "code",
   "execution_count": 67,
   "metadata": {
    "execution": {
     "iopub.execute_input": "2024-10-17T13:31:26.808330Z",
     "iopub.status.busy": "2024-10-17T13:31:26.807953Z",
     "iopub.status.idle": "2024-10-17T13:31:42.661357Z",
     "shell.execute_reply": "2024-10-17T13:31:42.660424Z",
     "shell.execute_reply.started": "2024-10-17T13:31:26.808293Z"
    }
   },
   "outputs": [
    {
     "name": "stderr",
     "output_type": "stream",
     "text": [
      "/tmp/ipykernel_30/4056392135.py:1: SettingWithCopyWarning: \n",
      "A value is trying to be set on a copy of a slice from a DataFrame.\n",
      "Try using .loc[row_indexer,col_indexer] = value instead\n",
      "\n",
      "See the caveats in the documentation: https://pandas.pydata.org/pandas-docs/stable/user_guide/indexing.html#returning-a-view-versus-a-copy\n",
      "  comp_df['corpus'] = [nltk.word_tokenize(text) for text in comp_df.tweet]\n",
      "/tmp/ipykernel_30/4056392135.py:3: SettingWithCopyWarning: \n",
      "A value is trying to be set on a copy of a slice from a DataFrame.\n",
      "Try using .loc[row_indexer,col_indexer] = value instead\n",
      "\n",
      "See the caveats in the documentation: https://pandas.pydata.org/pandas-docs/stable/user_guide/indexing.html#returning-a-view-versus-a-copy\n",
      "  comp_df.corpus = comp_df.apply(lambda x: \" \".join(x.corpus),axis=1)\n"
     ]
    }
   ],
   "source": [
    "comp_df['corpus'] = [nltk.word_tokenize(text) for text in comp_df.tweet]\n",
    "lemma = nltk.WordNetLemmatizer()\n",
    "comp_df.corpus = comp_df.apply(lambda x: \" \".join(x.corpus),axis=1)"
   ]
  },
  {
   "cell_type": "code",
   "execution_count": 68,
   "metadata": {
    "execution": {
     "iopub.execute_input": "2024-10-17T13:31:59.379490Z",
     "iopub.status.busy": "2024-10-17T13:31:59.378422Z",
     "iopub.status.idle": "2024-10-17T13:31:59.576773Z",
     "shell.execute_reply": "2024-10-17T13:31:59.575679Z",
     "shell.execute_reply.started": "2024-10-17T13:31:59.379437Z"
    }
   },
   "outputs": [
    {
     "data": {
      "text/plain": [
       "<wordcloud.wordcloud.WordCloud at 0x78f23c8d0610>"
      ]
     },
     "execution_count": 68,
     "metadata": {},
     "output_type": "execute_result"
    }
   ],
   "source": [
    "text = comp_df.corpus.values\n",
    "wordcloud = WordCloud(max_words=500,background_color='white', stopwords=stop_words, colormap='rainbow',height=300)\n",
    "wordcloud.generate(str(text))"
   ]
  },
  {
   "cell_type": "code",
   "execution_count": 69,
   "metadata": {
    "execution": {
     "iopub.execute_input": "2024-10-17T13:32:15.134957Z",
     "iopub.status.busy": "2024-10-17T13:32:15.134254Z",
     "iopub.status.idle": "2024-10-17T13:32:15.339820Z",
     "shell.execute_reply": "2024-10-17T13:32:15.338645Z",
     "shell.execute_reply.started": "2024-10-17T13:32:15.134907Z"
    }
   },
   "outputs": [
    {
     "data": {
      "image/png": "[encoded data removed]",
      "text/plain": [
       "<Figure size 1000x600 with 1 Axes>"
      ]
     },
     "metadata": {},
     "output_type": "display_data"
    }
   ],
   "source": [
    "fig = plt.figure()\n",
    "fig.set_figheight(6)\n",
    "fig.set_figwidth(10)\n",
    "plt.imshow(wordcloud)\n",
    "plt.axis('off')\n",
    "plt.show()"
   ]
  },
  {
   "cell_type": "code",
   "execution_count": 77,
   "metadata": {
    "execution": {
     "iopub.execute_input": "2024-10-17T13:40:31.024190Z",
     "iopub.status.busy": "2024-10-17T13:40:31.023283Z",
     "iopub.status.idle": "2024-10-17T13:40:31.029316Z",
     "shell.execute_reply": "2024-10-17T13:40:31.028334Z",
     "shell.execute_reply.started": "2024-10-17T13:40:31.024147Z"
    }
   },
   "outputs": [],
   "source": [
    "from sklearn.feature_extraction.text import TfidfVectorizer\n",
    "from sklearn.model_selection import train_test_split\n",
    "from sklearn.metrics import accuracy_score, classification_report\n",
    "from sklearn.linear_model import LogisticRegression\n",
    "from sklearn.metrics import classification_report"
   ]
  },
  {
   "cell_type": "code",
   "execution_count": 72,
   "metadata": {
    "execution": {
     "iopub.execute_input": "2024-10-17T13:36:43.364398Z",
     "iopub.status.busy": "2024-10-17T13:36:43.364072Z",
     "iopub.status.idle": "2024-10-17T13:36:43.377091Z",
     "shell.execute_reply": "2024-10-17T13:36:43.376269Z",
     "shell.execute_reply.started": "2024-10-17T13:36:43.364365Z"
    }
   },
   "outputs": [],
   "source": [
    "X = comp_df['tweet']\n",
    "y = comp_df['label']\n",
    "X_train, X_test, y_train, y_test = train_test_split(X, y, test_size=0.2, random_state=32)"
   ]
  },
  {
   "cell_type": "code",
   "execution_count": 74,
   "metadata": {
    "execution": {
     "iopub.execute_input": "2024-10-17T13:39:16.754957Z",
     "iopub.status.busy": "2024-10-17T13:39:16.754543Z",
     "iopub.status.idle": "2024-10-17T13:39:17.835028Z",
     "shell.execute_reply": "2024-10-17T13:39:17.834242Z",
     "shell.execute_reply.started": "2024-10-17T13:39:16.754907Z"
    }
   },
   "outputs": [],
   "source": [
    "vectorizer = TfidfVectorizer(max_features=72500)\n",
    "X_train_vectorized = vectorizer.fit_transform(X_train)\n",
    "X_test_vectorized = vectorizer.transform(X_test)"
   ]
  },
  {
   "cell_type": "code",
   "execution_count": 75,
   "metadata": {
    "execution": {
     "iopub.execute_input": "2024-10-17T13:39:26.108173Z",
     "iopub.status.busy": "2024-10-17T13:39:26.107774Z",
     "iopub.status.idle": "2024-10-17T13:40:00.233799Z",
     "shell.execute_reply": "2024-10-17T13:40:00.232820Z",
     "shell.execute_reply.started": "2024-10-17T13:39:26.108136Z"
    }
   },
   "outputs": [],
   "source": [
    "model = LogisticRegression(max_iter=72500)\n",
    "model.fit(X_train_vectorized, y_train)\n",
    "y_pred = model.predict(X_test_vectorized)"
   ]
  },
  {
   "cell_type": "code",
   "execution_count": 78,
   "metadata": {
    "execution": {
     "iopub.execute_input": "2024-10-17T13:40:35.281661Z",
     "iopub.status.busy": "2024-10-17T13:40:35.281280Z",
     "iopub.status.idle": "2024-10-17T13:40:35.725798Z",
     "shell.execute_reply": "2024-10-17T13:40:35.724881Z",
     "shell.execute_reply.started": "2024-10-17T13:40:35.281622Z"
    }
   },
   "outputs": [
    {
     "name": "stdout",
     "output_type": "stream",
     "text": [
      "Accuracy: 59.21477032588144\n",
      "Classification Report:\n",
      "                    precision    recall  f1-score   support\n",
      "\n",
      "Extremely Negative       0.65      0.48      0.56      1193\n",
      "Extremely Positive       0.69      0.58      0.63      1456\n",
      "          Negative       0.53      0.55      0.54      2137\n",
      "           Neutral       0.64      0.71      0.67      1686\n",
      "          Positive       0.55      0.61      0.58      2519\n",
      "\n",
      "          accuracy                           0.59      8991\n",
      "         macro avg       0.61      0.59      0.59      8991\n",
      "      weighted avg       0.60      0.59      0.59      8991\n",
      "\n"
     ]
    }
   ],
   "source": [
    "accuracy = accuracy_score(y_test, y_pred)\n",
    "print(\"Accuracy:\", accuracy*100)\n",
    "print(\"Classification Report:\")\n",
    "print(classification_report(y_test, y_pred))"
   ]
  },
  {
   "cell_type": "markdown",
   "metadata": {},
   "source": [
    "# NLP with LTSM"
   ]
  },
  {
   "cell_type": "code",
   "execution_count": null,
   "metadata": {
    "execution": {
     "iopub.execute_input": "2024-10-17T11:04:36.240249Z",
     "iopub.status.busy": "2024-10-17T11:04:36.239811Z",
     "iopub.status.idle": "2024-10-17T11:04:55.575832Z",
     "shell.execute_reply": "2024-10-17T11:04:55.574712Z",
     "shell.execute_reply.started": "2024-10-17T11:04:36.240206Z"
    }
   },
   "outputs": [],
   "source": [
    "import nltk\n",
    "from nltk.corpus import stopwords\n",
    "from nltk.stem.porter import PorterStemmer\n",
    "from wordcloud import WordCloud,STOPWORDS\n",
    "from nltk.stem import WordNetLemmatizer\n",
    "from nltk.tokenize import word_tokenize,sent_tokenize\n",
    "from bs4 import BeautifulSoup\n",
    "import re,string,unicodedata\n",
    "from tensorflow.keras.preprocessing import text \n",
    "from tensorflow.keras.preprocessing import sequence \n",
    "from sklearn.metrics import classification_report,confusion_matrix,accuracy_score\n",
    "from sklearn.model_selection import train_test_split\n",
    "from string import punctuation\n",
    "import keras\n",
    "from keras.models import Sequential\n",
    "import tensorflow as tf\n",
    "import matplotlib.pyplot as plt\n",
    "import seaborn as sns\n",
    "import pandas as pd \n",
    "import numpy as np\n",
    "from tensorflow.keras.preprocessing.text import Tokenizer\n",
    "from tensorflow.keras.preprocessing.sequence import pad_sequences\n",
    "import tensorflow as tf\n",
    "import tensorflow as tf\n",
    "from tensorflow.keras.preprocessing.text import Tokenizer\n",
    "from tensorflow.keras.preprocessing.sequence import pad_sequences\n",
    "import tensorflow.keras.layers as layer\n",
    "from tensorflow.keras.losses import SparseCategoricalCrossentropy\n",
    "from tensorflow.keras.optimizers import Adam\n",
    "from sklearn.model_selection import train_test_split\n",
    "from sklearn.metrics import confusion_matrix\n",
    "from sklearn.metrics import classification_report\n",
    "import nltk\n",
    "from nltk.corpus import stopwords"
   ]
  },
  {
   "cell_type": "code",
   "execution_count": null,
   "metadata": {
    "execution": {
     "iopub.execute_input": "2024-10-17T11:06:12.525575Z",
     "iopub.status.busy": "2024-10-17T11:06:12.525123Z",
     "iopub.status.idle": "2024-10-17T11:06:12.557167Z",
     "shell.execute_reply": "2024-10-17T11:06:12.555963Z",
     "shell.execute_reply.started": "2024-10-17T11:06:12.525534Z"
    }
   },
   "outputs": [],
   "source": [
    "df"
   ]
  },
  {
   "cell_type": "code",
   "execution_count": null,
   "metadata": {
    "execution": {
     "iopub.execute_input": "2024-10-17T11:06:48.328725Z",
     "iopub.status.busy": "2024-10-17T11:06:48.327874Z",
     "iopub.status.idle": "2024-10-17T11:06:48.334122Z",
     "shell.execute_reply": "2024-10-17T11:06:48.332831Z",
     "shell.execute_reply.started": "2024-10-17T11:06:48.328677Z"
    }
   },
   "outputs": [],
   "source": [
    "x = df['OriginalTweet']\n",
    "y = df['Sentiment']"
   ]
  },
  {
   "cell_type": "code",
   "execution_count": null,
   "metadata": {
    "execution": {
     "iopub.execute_input": "2024-10-17T11:07:03.909948Z",
     "iopub.status.busy": "2024-10-17T11:07:03.908851Z",
     "iopub.status.idle": "2024-10-17T11:07:07.482954Z",
     "shell.execute_reply": "2024-10-17T11:07:07.481743Z",
     "shell.execute_reply.started": "2024-10-17T11:07:03.909866Z"
    }
   },
   "outputs": [],
   "source": [
    "#Cleaning the texts and getting rid of unclear symbols or characters\n",
    "#This function is from: https://www.kaggle.com/code/shahraizanwar/covid19-tweets-sentiment-prediction-rnn-85-acc\n",
    "import re\n",
    "def text_cleaner(tweet):   \n",
    "    # remove urls\n",
    "    tweet = re.sub(r'http\\S+', ' ', tweet)  \n",
    "    # remove html tags\n",
    "    tweet = re.sub(r'<.*?>',' ', tweet)\n",
    "    # remove digits\n",
    "    tweet = re.sub(r'\\d+',' ', tweet)    \n",
    "    # remove hashtags\n",
    "    tweet = re.sub(r'#\\w+',' ', tweet)    \n",
    "    # remove mentions\n",
    "    tweet = re.sub(r'@\\w+',' ', tweet)    \n",
    "    #removing stop words\n",
    "    tweet = tweet.split()\n",
    "    tweet = \" \".join([word for word in tweet if not word in stop_words])   \n",
    "    return tweet\n",
    "\n",
    "stop_words = stopwords.words('english')\n",
    "\n",
    "X_c = x.apply(text_cleaner)\n",
    "X_c.head()"
   ]
  },
  {
   "cell_type": "code",
   "execution_count": null,
   "metadata": {
    "execution": {
     "iopub.execute_input": "2024-10-17T11:07:24.652136Z",
     "iopub.status.busy": "2024-10-17T11:07:24.651575Z",
     "iopub.status.idle": "2024-10-17T11:07:27.725678Z",
     "shell.execute_reply": "2024-10-17T11:07:27.724432Z",
     "shell.execute_reply.started": "2024-10-17T11:07:24.652075Z"
    }
   },
   "outputs": [],
   "source": [
    "tokenizer = Tokenizer()\n",
    "tokenizer.fit_on_texts(X_c)\n",
    "\n",
    "X = tokenizer.texts_to_sequences(X_c)\n",
    "vocab_size = len(tokenizer.word_index)+1\n",
    "\n",
    "print(\"Vocabulary size: {}\".format(vocab_size))\n",
    "print(\"\\nExample:\\n\")\n",
    "print(\"Sentence:\\n{}\".format(X_c[8]))\n",
    "print(\"\\nAfter tokenizing :\\n{}\".format(X[8]))\n",
    "\n",
    "X = pad_sequences(X, padding='post')\n",
    "print(\"\\nAfter padding :\\n{}\".format(X[8]))"
   ]
  },
  {
   "cell_type": "code",
   "execution_count": null,
   "metadata": {
    "execution": {
     "iopub.execute_input": "2024-10-17T11:07:44.843153Z",
     "iopub.status.busy": "2024-10-17T11:07:44.842691Z",
     "iopub.status.idle": "2024-10-17T11:07:44.857414Z",
     "shell.execute_reply": "2024-10-17T11:07:44.856127Z",
     "shell.execute_reply.started": "2024-10-17T11:07:44.843108Z"
    }
   },
   "outputs": [],
   "source": [
    "sentiments = {'Extremely Negative': 0,\n",
    "            'Negative': 0,\n",
    "            'Neutral': 1,\n",
    "            'Positive':2,\n",
    "            'Extremely Positive': 2\n",
    "           }\n",
    "y = y.map(sentiments)\n",
    "labels = ['Negative', 'Neutral', 'Positive']"
   ]
  },
  {
   "cell_type": "code",
   "execution_count": null,
   "metadata": {
    "execution": {
     "iopub.execute_input": "2024-10-17T11:07:57.404618Z",
     "iopub.status.busy": "2024-10-17T11:07:57.404151Z",
     "iopub.status.idle": "2024-10-17T11:07:57.894899Z",
     "shell.execute_reply": "2024-10-17T11:07:57.893484Z",
     "shell.execute_reply.started": "2024-10-17T11:07:57.404574Z"
    }
   },
   "outputs": [],
   "source": [
    "X_test = df_test['OriginalTweet'].copy()\n",
    "y_test = df_test['Sentiment'].copy()\n",
    "\n",
    "X_test = X_test.apply(text_cleaner)\n",
    "X_test = tokenizer.texts_to_sequences(X_test)\n",
    "X_test = pad_sequences(X_test, padding='post', maxlen = X.shape[1])\n",
    "\n",
    "y_test = y_test.map(sentiments)"
   ]
  },
  {
   "cell_type": "code",
   "execution_count": null,
   "metadata": {
    "execution": {
     "iopub.execute_input": "2024-10-17T11:08:22.841507Z",
     "iopub.status.busy": "2024-10-17T11:08:22.84105Z",
     "iopub.status.idle": "2024-10-17T11:08:22.85934Z",
     "shell.execute_reply": "2024-10-17T11:08:22.858086Z",
     "shell.execute_reply.started": "2024-10-17T11:08:22.841466Z"
    }
   },
   "outputs": [],
   "source": [
    "def generic_model(model_layer,units, epochs, bs):\n",
    "    EPOCHS = epochs\n",
    "    BATCH_SIZE = bs\n",
    "    embedding_dim = 16\n",
    "\n",
    "    model= tf.keras.Sequential([\n",
    "        layer.Embedding(vocab_size, embedding_dim, input_length=X.shape[1]),\n",
    "        model_layer(units,return_sequences = True),\n",
    "        layer.GlobalMaxPooling1D(),\n",
    "        layer.Dense(3,activation = 'softmax')\n",
    "    ])\n",
    "    \n",
    "    model.summary()\n",
    "    callback = tf.keras.callbacks.EarlyStopping(monitor='loss', patience=1)\n",
    "\n",
    "    model.compile(loss=SparseCategoricalCrossentropy(from_logits = False),\n",
    "              optimizer='adam',metrics=['accuracy'])\n",
    "            \n",
    "    history = model.fit(X, y, epochs=EPOCHS, \n",
    "                        validation_split=0.15, batch_size=BATCH_SIZE,\n",
    "                        callbacks = [callback])\n",
    "    hist_model = pd.DataFrame(history.history)\n",
    "    \n",
    "    #Plot the loss and accuracy curves\n",
    "    fig, ax = plt.subplots(2,1, figsize = (8,8))\n",
    "    ax[0].plot(hist_model.loss, c = 'b')\n",
    "    ax[0].plot(hist_model.val_loss, c = 'r')\n",
    "    ax[0].set_title('Training and validation losses');\n",
    "    ax[0].set_ylabel('Loss')\n",
    "    ax[0].legend(['train', 'val'], loc='upper left')\n",
    "\n",
    "    ax[1].plot(hist_model.accuracy, c = 'b')\n",
    "    ax[1].plot(hist_model.val_accuracy, c = 'r')\n",
    "    ax[1].set_title('Training and validation accuracies');\n",
    "    ax[1].set_ylabel('Accuracy')\n",
    "    ax[1].set_xlabel('Epoch')\n",
    "    ax[1].legend(['train', 'val'], loc='upper left')\n",
    "    \n",
    "    #Prediction\n",
    "    pred = np.argmax(np.round(model.predict(X_test)),axis = 1)\n",
    "    loss, acc = model.evaluate(X_test,y_test,verbose=0)\n",
    "    print('Test loss: {}'.format(loss))\n",
    "    print('Test Accuracy: {}'.format(acc))\n",
    "    \n",
    "                 \n",
    "    #Confustion matrix\n",
    "    confm = confusion_matrix(y_test, pred)\n",
    "    cm= pd.DataFrame(confm, index = [i for i in labels],\n",
    "                    columns = [i for i in labels])\n",
    "\n",
    "    plt.figure(figsize = (8,6))\n",
    "    sns.heatmap(cm, annot=True, fmt=\"d\")\n",
    "    plt.title('Confusion Matrix')\n",
    "    plt.show()\n",
    "                \n",
    "    return model, hist_model, loss, acc, cm"
   ]
  },
  {
   "cell_type": "code",
   "execution_count": null,
   "metadata": {
    "execution": {
     "iopub.execute_input": "2024-10-17T11:16:28.659807Z",
     "iopub.status.busy": "2024-10-17T11:16:28.659275Z",
     "iopub.status.idle": "2024-10-17T11:19:24.133962Z",
     "shell.execute_reply": "2024-10-17T11:19:24.132689Z",
     "shell.execute_reply.started": "2024-10-17T11:16:28.659763Z"
    }
   },
   "outputs": [],
   "source": [
    "model_RNN = generic_model(layer.SimpleRNN, 20, 10, 32)"
   ]
  },
  {
   "cell_type": "code",
   "execution_count": null,
   "metadata": {},
   "outputs": [],
   "source": []
  },
  {
   "cell_type": "code",
   "execution_count": null,
   "metadata": {
    "execution": {
     "iopub.execute_input": "2024-10-17T11:08:59.737504Z",
     "iopub.status.busy": "2024-10-17T11:08:59.736175Z",
     "iopub.status.idle": "2024-10-17T11:12:24.098426Z",
     "shell.execute_reply": "2024-10-17T11:12:24.097146Z",
     "shell.execute_reply.started": "2024-10-17T11:08:59.737453Z"
    }
   },
   "outputs": [],
   "source": [
    "model_LSTM = generic_model(layer.LSTM,15, 10, 32)"
   ]
  },
  {
   "cell_type": "code",
   "execution_count": null,
   "metadata": {
    "execution": {
     "iopub.execute_input": "2024-10-17T11:12:24.101588Z",
     "iopub.status.busy": "2024-10-17T11:12:24.100969Z",
     "iopub.status.idle": "2024-10-17T11:12:24.107722Z",
     "shell.execute_reply": "2024-10-17T11:12:24.106307Z",
     "shell.execute_reply.started": "2024-10-17T11:12:24.10153Z"
    }
   },
   "outputs": [],
   "source": [
    "Model: \"sequential_6\""
   ]
  },
  {
   "cell_type": "code",
   "execution_count": null,
   "metadata": {},
   "outputs": [],
   "source": []
  },
  {
   "cell_type": "code",
   "execution_count": null,
   "metadata": {},
   "outputs": [],
   "source": []
  },
  {
   "cell_type": "code",
   "execution_count": null,
   "metadata": {},
   "outputs": [],
   "source": []
  },
  {
   "cell_type": "code",
   "execution_count": null,
   "metadata": {},
   "outputs": [],
   "source": []
  },
  {
   "cell_type": "code",
   "execution_count": null,
   "metadata": {},
   "outputs": [],
   "source": []
  },
  {
   "cell_type": "code",
   "execution_count": null,
   "metadata": {},
   "outputs": [],
   "source": []
  },
  {
   "cell_type": "code",
   "execution_count": null,
   "metadata": {},
   "outputs": [],
   "source": []
  },
  {
   "cell_type": "code",
   "execution_count": null,
   "metadata": {},
   "outputs": [],
   "source": []
  },
  {
   "cell_type": "code",
   "execution_count": null,
   "metadata": {},
   "outputs": [],
   "source": []
  },
  {
   "cell_type": "code",
   "execution_count": null,
   "metadata": {},
   "outputs": [],
   "source": []
  },
  {
   "cell_type": "code",
   "execution_count": null,
   "metadata": {},
   "outputs": [],
   "source": []
  },
  {
   "cell_type": "code",
   "execution_count": null,
   "metadata": {},
   "outputs": [],
   "source": []
  },
  {
   "cell_type": "code",
   "execution_count": null,
   "metadata": {},
   "outputs": [],
   "source": []
  }
 ],
 "metadata": {
  "kaggle": {
   "accelerator": "gpu",
   "dataSources": [
    {
     "datasetId": 863934,
     "sourceId": 1472453,
     "sourceType": "datasetVersion"
    }
   ],
   "dockerImageVersionId": 30787,
   "isGpuEnabled": true,
   "isInternetEnabled": false,
   "language": "python",
   "sourceType": "notebook"
  },
  "kernelspec": {
   "display_name": "Python 3 (ipykernel)",
   "language": "python",
   "name": "python3"
  },
  "language_info": {
   "codemirror_mode": {
    "name": "ipython",
    "version": 3
   },
   "file_extension": ".py",
   "mimetype": "text/x-python",
   "name": "python",
   "nbconvert_exporter": "python",
   "pygments_lexer": "ipython3",
   "version": "3.9.7"
  }
 },
 "nbformat": 4,
 "nbformat_minor": 4
}
