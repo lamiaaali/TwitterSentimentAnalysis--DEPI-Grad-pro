{
 "cells": [
  {
   "cell_type": "code",
   "execution_count": 2,
   "metadata": {
    "_cell_guid": "b1076dfc-b9ad-4769-8c92-a6c4dae69d19",
    "_uuid": "8f2839f25d086af736a60e9eeb907d3b93b6e0e5",
    "execution": {
     "iopub.execute_input": "2024-10-13T21:50:40.310699Z",
     "iopub.status.busy": "2024-10-13T21:50:40.309987Z",
     "iopub.status.idle": "2024-10-13T21:50:40.332523Z",
     "shell.execute_reply": "2024-10-13T21:50:40.331199Z",
     "shell.execute_reply.started": "2024-10-13T21:50:40.310652Z"
    },
    "slideshow": {
     "slide_type": "skip"
    }
   },
   "outputs": [
    {
     "name": "stderr",
     "output_type": "stream",
     "text": [
      "/tmp/ipykernel_31/4133411131.py:20: MatplotlibDeprecationWarning: The seaborn styles shipped by Matplotlib are deprecated since 3.6, as they no longer correspond to the styles shipped by seaborn. However, they will remain available as 'seaborn-v0_8-<style>'. Alternatively, directly use the seaborn API instead.\n",
      "  plt.style.use(\"seaborn-whitegrid\")\n"
     ]
    },
    {
     "data": {
      "text/plain": [
       "<Figure size 640x480 with 0 Axes>"
      ]
     },
     "metadata": {},
     "output_type": "display_data"
    }
   ],
   "source": [
    "#general purpose packages\n",
    "import numpy as np\n",
    "import pandas as pd\n",
    "import tensorflow as tf\n",
    "import matplotlib.pyplot as plt\n",
    "import seaborn as sns\n",
    "\n",
    "#data processing\n",
    "import re, string\n",
    "import emoji\n",
    "import nltk\n",
    "\n",
    "from sklearn import preprocessing\n",
    "from imblearn.over_sampling import RandomOverSampler\n",
    "from sklearn.model_selection import train_test_split\n",
    "\n",
    "#set style for plots\n",
    "sns.set_style(\"whitegrid\")\n",
    "sns.despine()\n",
    "plt.style.use(\"seaborn-whitegrid\")\n",
    "plt.rc(\"figure\", autolayout=True)\n",
    "plt.rc(\"axes\", labelweight=\"bold\", labelsize=\"large\", titleweight=\"bold\", titlepad=10)"
   ]
  },
  {
   "cell_type": "code",
   "execution_count": 3,
   "metadata": {
    "execution": {
     "iopub.execute_input": "2024-10-13T21:51:32.877198Z",
     "iopub.status.busy": "2024-10-13T21:51:32.876768Z",
     "iopub.status.idle": "2024-10-13T21:51:33.265337Z",
     "shell.execute_reply": "2024-10-13T21:51:33.264173Z",
     "shell.execute_reply.started": "2024-10-13T21:51:32.877158Z"
    },
    "slideshow": {
     "slide_type": "skip"
    }
   },
   "outputs": [],
   "source": [
    "df = pd.read_csv('../input/covid-19-nlp-text-classification/Corona_NLP_train.csv',encoding='ISO-8859-1')\n",
    "df_test = pd.read_csv('../input/covid-19-nlp-text-classification/Corona_NLP_test.csv')"
   ]
  },
  {
   "cell_type": "code",
   "execution_count": 4,
   "metadata": {
    "execution": {
     "iopub.execute_input": "2024-10-13T21:51:46.936575Z",
     "iopub.status.busy": "2024-10-13T21:51:46.936174Z",
     "iopub.status.idle": "2024-10-13T21:51:46.954960Z",
     "shell.execute_reply": "2024-10-13T21:51:46.953521Z",
     "shell.execute_reply.started": "2024-10-13T21:51:46.936536Z"
    },
    "slideshow": {
     "slide_type": "slide"
    }
   },
   "outputs": [
    {
     "data": {
      "text/html": [
       "<div>\n",
       "<style scoped>\n",
       "    .dataframe tbody tr th:only-of-type {\n",
       "        vertical-align: middle;\n",
       "    }\n",
       "\n",
       "    .dataframe tbody tr th {\n",
       "        vertical-align: top;\n",
       "    }\n",
       "\n",
       "    .dataframe thead th {\n",
       "        text-align: right;\n",
       "    }\n",
       "</style>\n",
       "<table border=\"1\" class=\"dataframe\">\n",
       "  <thead>\n",
       "    <tr style=\"text-align: right;\">\n",
       "      <th></th>\n",
       "      <th>UserName</th>\n",
       "      <th>ScreenName</th>\n",
       "      <th>Location</th>\n",
       "      <th>TweetAt</th>\n",
       "      <th>OriginalTweet</th>\n",
       "      <th>Sentiment</th>\n",
       "    </tr>\n",
       "  </thead>\n",
       "  <tbody>\n",
       "    <tr>\n",
       "      <th>0</th>\n",
       "      <td>3799</td>\n",
       "      <td>48751</td>\n",
       "      <td>London</td>\n",
       "      <td>16-03-2020</td>\n",
       "      <td>@MeNyrbie @Phil_Gahan @Chrisitv https://t.co/i...</td>\n",
       "      <td>Neutral</td>\n",
       "    </tr>\n",
       "    <tr>\n",
       "      <th>1</th>\n",
       "      <td>3800</td>\n",
       "      <td>48752</td>\n",
       "      <td>UK</td>\n",
       "      <td>16-03-2020</td>\n",
       "      <td>advice Talk to your neighbours family to excha...</td>\n",
       "      <td>Positive</td>\n",
       "    </tr>\n",
       "    <tr>\n",
       "      <th>2</th>\n",
       "      <td>3801</td>\n",
       "      <td>48753</td>\n",
       "      <td>Vagabonds</td>\n",
       "      <td>16-03-2020</td>\n",
       "      <td>Coronavirus Australia: Woolworths to give elde...</td>\n",
       "      <td>Positive</td>\n",
       "    </tr>\n",
       "    <tr>\n",
       "      <th>3</th>\n",
       "      <td>3802</td>\n",
       "      <td>48754</td>\n",
       "      <td>NaN</td>\n",
       "      <td>16-03-2020</td>\n",
       "      <td>My food stock is not the only one which is emp...</td>\n",
       "      <td>Positive</td>\n",
       "    </tr>\n",
       "    <tr>\n",
       "      <th>4</th>\n",
       "      <td>3803</td>\n",
       "      <td>48755</td>\n",
       "      <td>NaN</td>\n",
       "      <td>16-03-2020</td>\n",
       "      <td>Me, ready to go at supermarket during the #COV...</td>\n",
       "      <td>Extremely Negative</td>\n",
       "    </tr>\n",
       "  </tbody>\n",
       "</table>\n",
       "</div>"
      ],
      "text/plain": [
       "   UserName  ScreenName   Location     TweetAt  \\\n",
       "0      3799       48751     London  16-03-2020   \n",
       "1      3800       48752         UK  16-03-2020   \n",
       "2      3801       48753  Vagabonds  16-03-2020   \n",
       "3      3802       48754        NaN  16-03-2020   \n",
       "4      3803       48755        NaN  16-03-2020   \n",
       "\n",
       "                                       OriginalTweet           Sentiment  \n",
       "0  @MeNyrbie @Phil_Gahan @Chrisitv https://t.co/i...             Neutral  \n",
       "1  advice Talk to your neighbours family to excha...            Positive  \n",
       "2  Coronavirus Australia: Woolworths to give elde...            Positive  \n",
       "3  My food stock is not the only one which is emp...            Positive  \n",
       "4  Me, ready to go at supermarket during the #COV...  Extremely Negative  "
      ]
     },
     "execution_count": 4,
     "metadata": {},
     "output_type": "execute_result"
    }
   ],
   "source": [
    "df.head()"
   ]
  },
  {
   "cell_type": "code",
   "execution_count": 5,
   "metadata": {
    "execution": {
     "iopub.execute_input": "2024-10-13T21:52:04.728438Z",
     "iopub.status.busy": "2024-10-13T21:52:04.728008Z",
     "iopub.status.idle": "2024-10-13T21:52:04.764521Z",
     "shell.execute_reply": "2024-10-13T21:52:04.763243Z",
     "shell.execute_reply.started": "2024-10-13T21:52:04.728399Z"
    },
    "slideshow": {
     "slide_type": "subslide"
    }
   },
   "outputs": [
    {
     "name": "stdout",
     "output_type": "stream",
     "text": [
      "<class 'pandas.core.frame.DataFrame'>\n",
      "RangeIndex: 41157 entries, 0 to 41156\n",
      "Data columns (total 6 columns):\n",
      " #   Column         Non-Null Count  Dtype \n",
      "---  ------         --------------  ----- \n",
      " 0   UserName       41157 non-null  int64 \n",
      " 1   ScreenName     41157 non-null  int64 \n",
      " 2   Location       32567 non-null  object\n",
      " 3   TweetAt        41157 non-null  object\n",
      " 4   OriginalTweet  41157 non-null  object\n",
      " 5   Sentiment      41157 non-null  object\n",
      "dtypes: int64(2), object(4)\n",
      "memory usage: 1.9+ MB\n"
     ]
    }
   ],
   "source": [
    "df.info()"
   ]
  },
  {
   "cell_type": "markdown",
   "metadata": {
    "slideshow": {
     "slide_type": "slide"
    }
   },
   "source": [
    "# Data Cleaning"
   ]
  },
  {
   "cell_type": "markdown",
   "metadata": {
    "slideshow": {
     "slide_type": "subslide"
    }
   },
   "source": [
    "### 1- Converting the \"TweetAt\" column to datetime. \n",
    "### 2- check the duplicates \n",
    "### 3- check nan values"
   ]
  },
  {
   "cell_type": "code",
   "execution_count": 7,
   "metadata": {
    "execution": {
     "iopub.execute_input": "2024-10-13T21:55:36.357645Z",
     "iopub.status.busy": "2024-10-13T21:55:36.356291Z",
     "iopub.status.idle": "2024-10-13T21:55:36.377805Z",
     "shell.execute_reply": "2024-10-13T21:55:36.376682Z",
     "shell.execute_reply.started": "2024-10-13T21:55:36.357518Z"
    },
    "slideshow": {
     "slide_type": "fragment"
    }
   },
   "outputs": [],
   "source": [
    "# Converting the \"TweetAt\" columns to pandas datetime format\n",
    "df['TweetAt'] = pd.to_datetime(df['TweetAt'])"
   ]
  },
  {
   "cell_type": "code",
   "execution_count": 9,
   "metadata": {
    "execution": {
     "iopub.execute_input": "2024-10-13T21:56:16.058165Z",
     "iopub.status.busy": "2024-10-13T21:56:16.057670Z",
     "iopub.status.idle": "2024-10-13T21:56:16.118485Z",
     "shell.execute_reply": "2024-10-13T21:56:16.117336Z",
     "shell.execute_reply.started": "2024-10-13T21:56:16.058120Z"
    },
    "slideshow": {
     "slide_type": "fragment"
    }
   },
   "outputs": [
    {
     "data": {
      "text/plain": [
       "0"
      ]
     },
     "execution_count": 9,
     "metadata": {},
     "output_type": "execute_result"
    }
   ],
   "source": [
    "## check duplicates\n",
    "df.duplicated().sum()"
   ]
  },
  {
   "cell_type": "markdown",
   "metadata": {
    "slideshow": {
     "slide_type": "slide"
    }
   },
   "source": [
    "# Exploring our dataset by using Exploratory Data analysis: "
   ]
  },
  {
   "cell_type": "markdown",
   "metadata": {
    "slideshow": {
     "slide_type": "slide"
    }
   },
   "source": [
    "### **Number of tweets per day** :"
   ]
  },
  {
   "cell_type": "code",
   "execution_count": 10,
   "metadata": {
    "execution": {
     "iopub.execute_input": "2024-10-13T21:59:25.987691Z",
     "iopub.status.busy": "2024-10-13T21:59:25.987153Z",
     "iopub.status.idle": "2024-10-13T21:59:26.250549Z",
     "shell.execute_reply": "2024-10-13T21:59:26.248814Z",
     "shell.execute_reply.started": "2024-10-13T21:59:25.987647Z"
    },
    "slideshow": {
     "slide_type": "skip"
    }
   },
   "outputs": [],
   "source": [
    "tweets_per_day = df['TweetAt'].dt.strftime('%m-%d').value_counts().sort_index().reset_index(name='counts')"
   ]
  },
  {
   "cell_type": "code",
   "execution_count": 13,
   "metadata": {
    "execution": {
     "iopub.execute_input": "2024-10-13T22:05:48.494257Z",
     "iopub.status.busy": "2024-10-13T22:05:48.493110Z",
     "iopub.status.idle": "2024-10-13T22:05:49.439054Z",
     "shell.execute_reply": "2024-10-13T22:05:49.437881Z",
     "shell.execute_reply.started": "2024-10-13T22:05:48.494194Z"
    },
    "slideshow": {
     "slide_type": "subslide"
    }
   },
   "outputs": [
    {
     "name": "stderr",
     "output_type": "stream",
     "text": [
      "/tmp/ipykernel_31/539433254.py:2: FutureWarning: \n",
      "\n",
      "The `ci` parameter is deprecated. Use `errorbar=('ci', False)` for the same effect.\n",
      "\n",
      "  ax = sns.barplot(x='TweetAt', y='counts', data=tweets_per_day,edgecolor = 'black',ci=False, palette='Blues_r')\n"
     ]
    },
    {
     "data": {
      "image/png": "[encoded data removed]",
      "text/plain": [
       "<Figure size 2000x500 with 1 Axes>"
      ]
     },
     "metadata": {},
     "output_type": "display_data"
    }
   ],
   "source": [
    "plt.figure(figsize=(20,5))\n",
    "ax = sns.barplot(x='TweetAt', y='counts', data=tweets_per_day,edgecolor = 'black',ci=False, palette='Blues_r')\n",
    "plt.title('Tweets count by date')\n",
    "plt.yticks([])\n",
    "ax.bar_label(ax.containers[0])\n",
    "plt.ylabel('count')\n",
    "plt.xlabel('')\n",
    "plt.show()"
   ]
  },
  {
   "cell_type": "markdown",
   "metadata": {
    "slideshow": {
     "slide_type": "fragment"
    }
   },
   "source": [
    "from the bar chart above, we notice that in the dataset there are some days without tweets in the dataset. Among the days with tweets, most of them are made around the end of March: from 18th of Match to the 26th of March."
   ]
  },
  {
   "cell_type": "markdown",
   "metadata": {
    "slideshow": {
     "slide_type": "slide"
    }
   },
   "source": [
    "### Number of tweets per Country & City"
   ]
  },
  {
   "cell_type": "code",
   "execution_count": 15,
   "metadata": {
    "execution": {
     "iopub.execute_input": "2024-10-13T22:08:22.772793Z",
     "iopub.status.busy": "2024-10-13T22:08:22.771760Z",
     "iopub.status.idle": "2024-10-13T22:08:22.788062Z",
     "shell.execute_reply": "2024-10-13T22:08:22.786853Z",
     "shell.execute_reply.started": "2024-10-13T22:08:22.772746Z"
    },
    "slideshow": {
     "slide_type": "skip"
    }
   },
   "outputs": [],
   "source": [
    "tweets_per_country = df['Location'].value_counts().loc[lambda x : x > 100].reset_index(name='counts')"
   ]
  },
  {
   "cell_type": "code",
   "execution_count": 18,
   "metadata": {
    "execution": {
     "iopub.execute_input": "2024-10-13T22:09:14.558266Z",
     "iopub.status.busy": "2024-10-13T22:09:14.557811Z",
     "iopub.status.idle": "2024-10-13T22:09:15.335977Z",
     "shell.execute_reply": "2024-10-13T22:09:15.334656Z",
     "shell.execute_reply.started": "2024-10-13T22:09:14.558226Z"
    },
    "slideshow": {
     "slide_type": "subslide"
    }
   },
   "outputs": [
    {
     "name": "stderr",
     "output_type": "stream",
     "text": [
      "/tmp/ipykernel_31/2328869165.py:2: FutureWarning: \n",
      "\n",
      "The `ci` parameter is deprecated. Use `errorbar=('ci', False)` for the same effect.\n",
      "\n",
      "  ax = sns.barplot(x='Location', y='counts', data=tweets_per_country,edgecolor = 'black',ci=False, palette='Spectral')\n"
     ]
    },
    {
     "data": {
      "image/png": "[encoded data removed]",
      "text/plain": [
       "<Figure size 1500x600 with 1 Axes>"
      ]
     },
     "metadata": {},
     "output_type": "display_data"
    }
   ],
   "source": [
    "plt.figure(figsize=(15,6))\n",
    "ax = sns.barplot(x='Location', y='counts', data=tweets_per_country,edgecolor = 'black',ci=False, palette='Spectral')\n",
    "plt.title('Tweets count by country')\n",
    "plt.xticks(rotation=70)\n",
    "plt.yticks([])\n",
    "ax.bar_label(ax.containers[0])\n",
    "plt.ylabel('count')\n",
    "plt.xlabel('')\n",
    "plt.show()"
   ]
  },
  {
   "cell_type": "markdown",
   "metadata": {
    "slideshow": {
     "slide_type": "fragment"
    }
   },
   "source": [
    "The chart above explain that the 'location' column contains both countries and cities. It could be interesting to separate cities and countries, however this wont be investigated in this work."
   ]
  },
  {
   "cell_type": "markdown",
   "metadata": {
    "slideshow": {
     "slide_type": "slide"
    }
   },
   "source": [
    "# Data Preprocessing "
   ]
  },
  {
   "cell_type": "markdown",
   "metadata": {
    "slideshow": {
     "slide_type": "fragment"
    }
   },
   "source": [
    " we will just keep the columns 'Originaltweet' (raw tweets) and the target column 'Sentiment'."
   ]
  },
  {
   "cell_type": "code",
   "execution_count": 19,
   "metadata": {
    "execution": {
     "iopub.execute_input": "2024-10-13T22:23:55.930958Z",
     "iopub.status.busy": "2024-10-13T22:23:55.930484Z",
     "iopub.status.idle": "2024-10-13T22:23:55.940862Z",
     "shell.execute_reply": "2024-10-13T22:23:55.939639Z",
     "shell.execute_reply.started": "2024-10-13T22:23:55.930915Z"
    },
    "slideshow": {
     "slide_type": "fragment"
    }
   },
   "outputs": [],
   "source": [
    "df = df[['OriginalTweet','Sentiment']]"
   ]
  },
  {
   "cell_type": "code",
   "execution_count": 20,
   "metadata": {
    "execution": {
     "iopub.execute_input": "2024-10-13T22:24:39.724882Z",
     "iopub.status.busy": "2024-10-13T22:24:39.724388Z",
     "iopub.status.idle": "2024-10-13T22:24:39.732481Z",
     "shell.execute_reply": "2024-10-13T22:24:39.731173Z",
     "shell.execute_reply.started": "2024-10-13T22:24:39.724806Z"
    }
   },
   "outputs": [],
   "source": [
    "df_test = df_test[['OriginalTweet','Sentiment']]"
   ]
  },
  {
   "cell_type": "code",
   "execution_count": 26,
   "metadata": {
    "execution": {
     "iopub.execute_input": "2024-10-13T22:29:06.419288Z",
     "iopub.status.busy": "2024-10-13T22:29:06.418872Z",
     "iopub.status.idle": "2024-10-13T22:29:06.430258Z",
     "shell.execute_reply": "2024-10-13T22:29:06.428922Z",
     "shell.execute_reply.started": "2024-10-13T22:29:06.419251Z"
    },
    "slideshow": {
     "slide_type": "slide"
    }
   },
   "outputs": [],
   "source": [
    "##CUSTOM DEFINED FUNCTIONS TO CLEAN THE TWEETS\n",
    "\n",
    "#Clean emojis from text\n",
    "def strip_emoji(text):\n",
    "    return emoji.replace_emoji(text,replace = '') #remove emoji\n",
    "\n",
    "#Remove punctuations, links, mentions and \\r\\n new line characters\n",
    "def strip_all_entities(text): \n",
    "    text = text.replace('\\r', '').replace('\\n', ' ').replace('\\n', ' ').lower() #remove \\n and \\r and lowercase\n",
    "    text = re.sub(r\"(?:\\@|https?\\://)\\S+\", \"\", text) #remove links and mentions\n",
    "    text = re.sub(r'[^\\x00-\\x7f]',r'', text) #remove non utf8/ascii characters such as '\\x9a\\x91\\x97\\x9a\\x97'\n",
    "    banned_list= string.punctuation + 'Ã'+'±'+'ã'+'¼'+'â'+'»'+'§'\n",
    "    table = str.maketrans('', '', banned_list)\n",
    "    text = text.translate(table)\n",
    "    return text\n",
    "\n",
    "#clean hashtags at the end of the sentence, and keep those in the middle of the sentence by removing just the # symbol\n",
    "def clean_hashtags(tweet):\n",
    "    new_tweet = \" \".join(word.strip() for word in re.split('#(?!(?:hashtag)\\b)[\\w-]+(?=(?:\\s+#[\\w-]+)*\\s*$)', tweet)) #remove last hashtags\n",
    "    new_tweet2 = \" \".join(word.strip() for word in re.split('#|_', new_tweet)) #remove hashtags symbol from words in the middle of the sentence\n",
    "    return new_tweet2\n",
    "\n",
    "#Filter special characters such as & and $ present in some words\n",
    "def filter_chars(a):\n",
    "    sent = []\n",
    "    for word in a.split(' '):\n",
    "        if ('$' in word) | ('&' in word):\n",
    "            sent.append('')\n",
    "        else:\n",
    "            sent.append(word)\n",
    "    return ' '.join(sent)\n",
    "\n",
    "def remove_mult_spaces(text): # remove multiple spaces\n",
    "    return re.sub(\"\\s\\s+\" , \" \", text)"
   ]
  },
  {
   "cell_type": "code",
   "execution_count": 27,
   "metadata": {
    "execution": {
     "iopub.execute_input": "2024-10-13T22:29:10.722335Z",
     "iopub.status.busy": "2024-10-13T22:29:10.721889Z",
     "iopub.status.idle": "2024-10-13T22:29:23.030340Z",
     "shell.execute_reply": "2024-10-13T22:29:23.029096Z",
     "shell.execute_reply.started": "2024-10-13T22:29:10.722285Z"
    },
    "slideshow": {
     "slide_type": "skip"
    }
   },
   "outputs": [],
   "source": [
    "texts_new = []\n",
    "for t in df.OriginalTweet:\n",
    "    texts_new.append(remove_mult_spaces(filter_chars(clean_hashtags(strip_all_entities(strip_emoji(t))))))"
   ]
  },
  {
   "cell_type": "code",
   "execution_count": 28,
   "metadata": {
    "execution": {
     "iopub.execute_input": "2024-10-13T22:30:48.990346Z",
     "iopub.status.busy": "2024-10-13T22:30:48.989919Z",
     "iopub.status.idle": "2024-10-13T22:30:50.210676Z",
     "shell.execute_reply": "2024-10-13T22:30:50.209437Z",
     "shell.execute_reply.started": "2024-10-13T22:30:48.990304Z"
    },
    "slideshow": {
     "slide_type": "skip"
    }
   },
   "outputs": [],
   "source": [
    "texts_new_test = []\n",
    "for t in df_test.OriginalTweet:\n",
    "    texts_new_test.append(remove_mult_spaces(filter_chars(clean_hashtags(strip_all_entities(strip_emoji(t))))))"
   ]
  },
  {
   "cell_type": "markdown",
   "metadata": {
    "slideshow": {
     "slide_type": "skip"
    }
   },
   "source": [
    "Now we will create a new column, for both train and test sets, to host the cleaned version of the tweets' text."
   ]
  },
  {
   "cell_type": "code",
   "execution_count": 29,
   "metadata": {
    "execution": {
     "iopub.execute_input": "2024-10-13T22:31:36.398063Z",
     "iopub.status.busy": "2024-10-13T22:31:36.397613Z",
     "iopub.status.idle": "2024-10-13T22:31:36.412166Z",
     "shell.execute_reply": "2024-10-13T22:31:36.410703Z",
     "shell.execute_reply.started": "2024-10-13T22:31:36.398018Z"
    },
    "slideshow": {
     "slide_type": "skip"
    }
   },
   "outputs": [],
   "source": [
    "df['text_clean'] = texts_new\n",
    "df_test['text_clean'] = texts_new_test"
   ]
  },
  {
   "cell_type": "code",
   "execution_count": 30,
   "metadata": {
    "execution": {
     "iopub.execute_input": "2024-10-13T22:31:48.586614Z",
     "iopub.status.busy": "2024-10-13T22:31:48.586177Z",
     "iopub.status.idle": "2024-10-13T22:31:48.596448Z",
     "shell.execute_reply": "2024-10-13T22:31:48.595193Z",
     "shell.execute_reply.started": "2024-10-13T22:31:48.586568Z"
    },
    "slideshow": {
     "slide_type": "slide"
    }
   },
   "outputs": [
    {
     "data": {
      "text/plain": [
       "0                                              and and\n",
       "1    advice talk to your neighbours family to excha...\n",
       "2    coronavirus australia woolworths to give elder...\n",
       "3    my food stock is not the only one which is emp...\n",
       "4    me ready to go at supermarket during the covid...\n",
       "Name: text_clean, dtype: object"
      ]
     },
     "execution_count": 30,
     "metadata": {},
     "output_type": "execute_result"
    }
   ],
   "source": [
    "df['text_clean'].head()"
   ]
  },
  {
   "cell_type": "code",
   "execution_count": 31,
   "metadata": {
    "execution": {
     "iopub.execute_input": "2024-10-13T22:32:02.632030Z",
     "iopub.status.busy": "2024-10-13T22:32:02.631534Z",
     "iopub.status.idle": "2024-10-13T22:32:02.642686Z",
     "shell.execute_reply": "2024-10-13T22:32:02.640953Z",
     "shell.execute_reply.started": "2024-10-13T22:32:02.631979Z"
    },
    "slideshow": {
     "slide_type": "fragment"
    }
   },
   "outputs": [
    {
     "data": {
      "text/plain": [
       "0    trending new yorkers encounter empty supermark...\n",
       "1    when i couldnt find hand sanitizer at fred mey...\n",
       "2    find out how you can protect yourself and love...\n",
       "3    panic buying hits newyork city as anxious shop...\n",
       "4    toiletpaper dunnypaper coronavirus coronavirus...\n",
       "Name: text_clean, dtype: object"
      ]
     },
     "execution_count": 31,
     "metadata": {},
     "output_type": "execute_result"
    }
   ],
   "source": [
    "df_test['text_clean'].head()"
   ]
  },
  {
   "cell_type": "code",
   "execution_count": 32,
   "metadata": {
    "execution": {
     "iopub.execute_input": "2024-10-13T22:32:18.077890Z",
     "iopub.status.busy": "2024-10-13T22:32:18.077436Z",
     "iopub.status.idle": "2024-10-13T22:32:18.086410Z",
     "shell.execute_reply": "2024-10-13T22:32:18.085263Z",
     "shell.execute_reply.started": "2024-10-13T22:32:18.077825Z"
    },
    "slideshow": {
     "slide_type": "skip"
    }
   },
   "outputs": [
    {
     "data": {
      "text/plain": [
       "array(['advice talk to your neighbours family to exchange phone numbers create contact list with phone numbers of neighbours schools employer chemist gp set up online shopping accounts if poss adequate supplies of regular meds but not over order',\n",
       "       'coronavirus australia woolworths to give elderly disabled dedicated shopping hours amid covid19 outbreak',\n",
       "       'my food stock is not the only one which is empty please dont panic there will be enough food for everyone if you do not take more than you need stay calm stay safe covid19france covid19 covid19 coronavirus confinement confinementotal confinementgeneral',\n",
       "       'me ready to go at supermarket during the covid19 outbreak not because im paranoid but because my food stock is litteraly empty the coronavirus is a serious thing but please dont panic it causes shortage coronavirusfrance restezchezvous stayathome confinement',\n",
       "       'as news of the regions first confirmed covid19 case came out of sullivan county last week people flocked to area stores to purchase cleaning supplies hand sanitizer food toilet paper and other goods reports',\n",
       "       'cashier at grocery store was sharing his insights on covid19 to prove his credibility he commented im in civics class so i know what im talking about',\n",
       "       'was at the supermarket today didnt buy toilet paper rebel toiletpapercrisis covid19'],\n",
       "      dtype=object)"
      ]
     },
     "execution_count": 32,
     "metadata": {},
     "output_type": "execute_result"
    }
   ],
   "source": [
    "df['text_clean'][1:8].values"
   ]
  },
  {
   "cell_type": "markdown",
   "metadata": {
    "slideshow": {
     "slide_type": "slide"
    }
   },
   "source": [
    "Moreover, we will also create a column to host the lenght of the cleaned text, to check if by cleaning the text we removed too much text or almost entirely the tweet!"
   ]
  },
  {
   "cell_type": "code",
   "execution_count": 33,
   "metadata": {
    "execution": {
     "iopub.execute_input": "2024-10-13T22:33:20.954400Z",
     "iopub.status.busy": "2024-10-13T22:33:20.953987Z",
     "iopub.status.idle": "2024-10-13T22:33:21.055304Z",
     "shell.execute_reply": "2024-10-13T22:33:21.054102Z",
     "shell.execute_reply.started": "2024-10-13T22:33:20.954360Z"
    },
    "slideshow": {
     "slide_type": "skip"
    }
   },
   "outputs": [],
   "source": [
    "text_len = []\n",
    "for text in df.text_clean:\n",
    "    tweet_len = len(text.split())\n",
    "    text_len.append(tweet_len)"
   ]
  },
  {
   "cell_type": "code",
   "execution_count": 35,
   "metadata": {
    "execution": {
     "iopub.execute_input": "2024-10-13T22:33:56.156076Z",
     "iopub.status.busy": "2024-10-13T22:33:56.155634Z",
     "iopub.status.idle": "2024-10-13T22:33:56.175958Z",
     "shell.execute_reply": "2024-10-13T22:33:56.174562Z",
     "shell.execute_reply.started": "2024-10-13T22:33:56.156039Z"
    },
    "slideshow": {
     "slide_type": "skip"
    }
   },
   "outputs": [],
   "source": [
    "df['text_len'] = text_len"
   ]
  },
  {
   "cell_type": "code",
   "execution_count": 36,
   "metadata": {
    "execution": {
     "iopub.execute_input": "2024-10-13T22:34:20.054050Z",
     "iopub.status.busy": "2024-10-13T22:34:20.053617Z",
     "iopub.status.idle": "2024-10-13T22:34:20.069098Z",
     "shell.execute_reply": "2024-10-13T22:34:20.067763Z",
     "shell.execute_reply.started": "2024-10-13T22:34:20.054009Z"
    },
    "slideshow": {
     "slide_type": "skip"
    }
   },
   "outputs": [],
   "source": [
    "text_len_test = []\n",
    "for text in df_test.text_clean:\n",
    "    tweet_len = len(text.split())\n",
    "    text_len_test.append(tweet_len)"
   ]
  },
  {
   "cell_type": "code",
   "execution_count": 37,
   "metadata": {
    "execution": {
     "iopub.execute_input": "2024-10-13T22:34:35.838897Z",
     "iopub.status.busy": "2024-10-13T22:34:35.837655Z",
     "iopub.status.idle": "2024-10-13T22:34:35.845826Z",
     "shell.execute_reply": "2024-10-13T22:34:35.844628Z",
     "shell.execute_reply.started": "2024-10-13T22:34:35.838818Z"
    },
    "slideshow": {
     "slide_type": "skip"
    }
   },
   "outputs": [],
   "source": [
    "df_test['text_len'] = text_len_test"
   ]
  },
  {
   "cell_type": "code",
   "execution_count": 38,
   "metadata": {
    "execution": {
     "iopub.execute_input": "2024-10-13T22:34:56.344070Z",
     "iopub.status.busy": "2024-10-13T22:34:56.343615Z",
     "iopub.status.idle": "2024-10-13T22:34:56.688348Z",
     "shell.execute_reply": "2024-10-13T22:34:56.687136Z",
     "shell.execute_reply.started": "2024-10-13T22:34:56.344024Z"
    },
    "slideshow": {
     "slide_type": "slide"
    }
   },
   "outputs": [
    {
     "data": {
      "image/png": "[encoded data removed]",
      "text/plain": [
       "<Figure size 700x500 with 1 Axes>"
      ]
     },
     "metadata": {},
     "output_type": "display_data"
    }
   ],
   "source": [
    "plt.figure(figsize=(7,5))\n",
    "ax = sns.countplot(x='text_len', data=df[df['text_len']<10], palette='mako')\n",
    "plt.title('Training tweets with less than 10 words')\n",
    "plt.yticks([])\n",
    "ax.bar_label(ax.containers[0])\n",
    "plt.ylabel('count')\n",
    "plt.xlabel('')\n",
    "plt.show()"
   ]
  },
  {
   "cell_type": "code",
   "execution_count": 39,
   "metadata": {
    "execution": {
     "iopub.execute_input": "2024-10-13T22:35:17.990291Z",
     "iopub.status.busy": "2024-10-13T22:35:17.989868Z",
     "iopub.status.idle": "2024-10-13T22:35:18.328567Z",
     "shell.execute_reply": "2024-10-13T22:35:18.327128Z",
     "shell.execute_reply.started": "2024-10-13T22:35:17.990250Z"
    },
    "slideshow": {
     "slide_type": "subslide"
    }
   },
   "outputs": [
    {
     "data": {
      "image/png": "[encoded data removed]",
      "text/plain": [
       "<Figure size 700x500 with 1 Axes>"
      ]
     },
     "metadata": {},
     "output_type": "display_data"
    }
   ],
   "source": [
    "plt.figure(figsize=(7,5))\n",
    "ax = sns.countplot(x='text_len', data=df_test[df_test['text_len']<10], palette='mako')\n",
    "plt.title('Test tweets with less than 10 words')\n",
    "plt.yticks([])\n",
    "ax.bar_label(ax.containers[0])\n",
    "plt.ylabel('count')\n",
    "plt.xlabel('')\n",
    "plt.show()"
   ]
  },
  {
   "cell_type": "markdown",
   "metadata": {
    "slideshow": {
     "slide_type": "fragment"
    }
   },
   "source": [
    "As we can see, there are lots of cleaned tweets with 0 words: this is due to the cleaning performed before. This means that some tweets contained only mentions, hashtags and links, which have been removed. We will drop these empty tweets and also those with less than 5 words."
   ]
  },
  {
   "cell_type": "code",
   "execution_count": 40,
   "metadata": {
    "execution": {
     "iopub.execute_input": "2024-10-13T22:36:01.476005Z",
     "iopub.status.busy": "2024-10-13T22:36:01.475534Z",
     "iopub.status.idle": "2024-10-13T22:36:01.482469Z",
     "shell.execute_reply": "2024-10-13T22:36:01.481346Z",
     "shell.execute_reply.started": "2024-10-13T22:36:01.475961Z"
    },
    "slideshow": {
     "slide_type": "skip"
    }
   },
   "outputs": [
    {
     "name": "stdout",
     "output_type": "stream",
     "text": [
      " DF SHAPE: (41157, 4)\n",
      " DF TEST SHAPE: (3798, 4)\n"
     ]
    }
   ],
   "source": [
    "print(f\" DF SHAPE: {df.shape}\")\n",
    "print(f\" DF TEST SHAPE: {df_test.shape}\")"
   ]
  },
  {
   "cell_type": "code",
   "execution_count": 41,
   "metadata": {
    "execution": {
     "iopub.execute_input": "2024-10-13T22:36:15.460726Z",
     "iopub.status.busy": "2024-10-13T22:36:15.460279Z",
     "iopub.status.idle": "2024-10-13T22:36:15.473436Z",
     "shell.execute_reply": "2024-10-13T22:36:15.472206Z",
     "shell.execute_reply.started": "2024-10-13T22:36:15.460682Z"
    },
    "slideshow": {
     "slide_type": "skip"
    }
   },
   "outputs": [],
   "source": [
    "df = df[df['text_len'] > 4]"
   ]
  },
  {
   "cell_type": "code",
   "execution_count": 42,
   "metadata": {
    "execution": {
     "iopub.execute_input": "2024-10-13T22:36:34.602902Z",
     "iopub.status.busy": "2024-10-13T22:36:34.601740Z",
     "iopub.status.idle": "2024-10-13T22:36:34.609064Z",
     "shell.execute_reply": "2024-10-13T22:36:34.607940Z",
     "shell.execute_reply.started": "2024-10-13T22:36:34.602844Z"
    },
    "slideshow": {
     "slide_type": "skip"
    }
   },
   "outputs": [
    {
     "name": "stdout",
     "output_type": "stream",
     "text": [
      " DF SHAPE: (40935, 4)\n",
      " DF TEST SHAPE: (3798, 4)\n"
     ]
    }
   ],
   "source": [
    "print(f\" DF SHAPE: {df.shape}\")\n",
    "print(f\" DF TEST SHAPE: {df_test.shape}\")"
   ]
  },
  {
   "cell_type": "markdown",
   "metadata": {
    "slideshow": {
     "slide_type": "slide"
    }
   },
   "source": [
    "###  Performing Tokenization"
   ]
  },
  {
   "cell_type": "code",
   "execution_count": 45,
   "metadata": {
    "execution": {
     "iopub.execute_input": "2024-10-13T22:49:15.382275Z",
     "iopub.status.busy": "2024-10-13T22:49:15.381481Z",
     "iopub.status.idle": "2024-10-13T22:49:15.388377Z",
     "shell.execute_reply": "2024-10-13T22:49:15.386787Z",
     "shell.execute_reply.started": "2024-10-13T22:49:15.382218Z"
    },
    "slideshow": {
     "slide_type": "skip"
    }
   },
   "outputs": [],
   "source": [
    "from transformers import BertTokenizerFast"
   ]
  },
  {
   "cell_type": "code",
   "execution_count": 46,
   "metadata": {
    "execution": {
     "iopub.execute_input": "2024-10-13T22:49:20.328540Z",
     "iopub.status.busy": "2024-10-13T22:49:20.328129Z",
     "iopub.status.idle": "2024-10-13T22:49:20.517750Z",
     "shell.execute_reply": "2024-10-13T22:49:20.516263Z",
     "shell.execute_reply.started": "2024-10-13T22:49:20.328500Z"
    },
    "slideshow": {
     "slide_type": "skip"
    }
   },
   "outputs": [],
   "source": [
    "tokenizer = BertTokenizerFast.from_pretrained('bert-base-uncased')"
   ]
  },
  {
   "cell_type": "code",
   "execution_count": 47,
   "metadata": {
    "execution": {
     "iopub.execute_input": "2024-10-13T22:51:19.014769Z",
     "iopub.status.busy": "2024-10-13T22:51:19.014036Z",
     "iopub.status.idle": "2024-10-13T22:51:28.158070Z",
     "shell.execute_reply": "2024-10-13T22:51:28.156575Z",
     "shell.execute_reply.started": "2024-10-13T22:51:19.014722Z"
    },
    "slideshow": {
     "slide_type": "subslide"
    }
   },
   "outputs": [],
   "source": [
    "token_lens = []\n",
    "\n",
    "for txt in df['text_clean'].values:\n",
    "    tokens = tokenizer.encode(txt, max_length=512, truncation=True)\n",
    "    token_lens.append(len(tokens))\n",
    "    \n",
    "max_len=np.max(token_lens)"
   ]
  },
  {
   "cell_type": "code",
   "execution_count": 48,
   "metadata": {
    "execution": {
     "iopub.execute_input": "2024-10-13T22:51:32.863331Z",
     "iopub.status.busy": "2024-10-13T22:51:32.862733Z",
     "iopub.status.idle": "2024-10-13T22:51:32.870143Z",
     "shell.execute_reply": "2024-10-13T22:51:32.868788Z",
     "shell.execute_reply.started": "2024-10-13T22:51:32.863284Z"
    },
    "slideshow": {
     "slide_type": "fragment"
    }
   },
   "outputs": [
    {
     "name": "stdout",
     "output_type": "stream",
     "text": [
      "MAX TOKENIZED SENTENCE LENGTH: 100\n"
     ]
    }
   ],
   "source": [
    "print(f\"MAX TOKENIZED SENTENCE LENGTH: {max_len}\")"
   ]
  },
  {
   "cell_type": "markdown",
   "metadata": {
    "slideshow": {
     "slide_type": "slide"
    }
   },
   "source": [
    "### Let's check the long tokenized sentences (with more than 80 tokens ):"
   ]
  },
  {
   "cell_type": "code",
   "execution_count": 49,
   "metadata": {
    "execution": {
     "iopub.execute_input": "2024-10-13T22:52:23.044004Z",
     "iopub.status.busy": "2024-10-13T22:52:23.043433Z",
     "iopub.status.idle": "2024-10-13T22:52:32.186224Z",
     "shell.execute_reply": "2024-10-13T22:52:32.184896Z",
     "shell.execute_reply.started": "2024-10-13T22:52:23.043948Z"
    },
    "slideshow": {
     "slide_type": "subslide"
    }
   },
   "outputs": [
    {
     "name": "stdout",
     "output_type": "stream",
     "text": [
      "INDEX: 1622, TEXT: zsah policie proti spekulantm s roukami na mj popud hejtman steckho kraje ve spoluprci s podle krizovho zkona zajistil tm 700 tisrouek od firmy kter je mla dodat na zdravotnkm ale na posledn chvli se snaila navyovat cenu spolutozvladneme\n",
      "INDEX: 13623, TEXT: hoy aplaudo a mi segunda familia aplaudoanuestrosheroes aquellos con los que he compartido tantas noches de trabajo y tanta alegra s que como siempre dan todo por el bien de su comunidad presidente por ellos tambin cuarentenanacionalya cuidemosalosquecuidan\n",
      "INDEX: 16548, TEXT: bir mddettir spermarketlerin lojistik hizmeti avusturya ordusu desteiyle yaplyor dn corona tedavisi iin 22 milyon luk bir aratrma gelitirme btesi aklad hkmet geen hafta da 35 milyon luk 2 yardm paketi aklanmt viyanadan haberler bu kadar\n",
      "INDEX: 36953, TEXT: 11 nisan cumartesi itibariyle bbnin tm hizmetleri sokaa kma serbestisi olanlar iin devam edecek halk ekmek ve hamidiye su 100 retime geti bb tm stanbulun gda ihtiyacna yetecek kapasitededir halkmz sakin olsun ve gvende hissetsin ltfen herkes evine dnsn\n"
     ]
    }
   ],
   "source": [
    "token_lens = []\n",
    "\n",
    "for i,txt in enumerate(df['text_clean'].values):\n",
    "    tokens = tokenizer.encode(txt, max_length=512, truncation=True)\n",
    "    token_lens.append(len(tokens))\n",
    "    if len(tokens)>80:\n",
    "        print(f\"INDEX: {i}, TEXT: {txt}\")  "
   ]
  },
  {
   "cell_type": "markdown",
   "metadata": {
    "slideshow": {
     "slide_type": "fragment"
    }
   },
   "source": [
    "These sentences are not in english. They should be dropped."
   ]
  },
  {
   "cell_type": "code",
   "execution_count": 50,
   "metadata": {
    "execution": {
     "iopub.execute_input": "2024-10-13T22:53:11.443401Z",
     "iopub.status.busy": "2024-10-13T22:53:11.442979Z",
     "iopub.status.idle": "2024-10-13T22:53:11.464868Z",
     "shell.execute_reply": "2024-10-13T22:53:11.463507Z",
     "shell.execute_reply.started": "2024-10-13T22:53:11.443362Z"
    },
    "slideshow": {
     "slide_type": "skip"
    }
   },
   "outputs": [],
   "source": [
    "df['token_lens'] = token_lens"
   ]
  },
  {
   "cell_type": "code",
   "execution_count": 51,
   "metadata": {
    "execution": {
     "iopub.execute_input": "2024-10-13T22:53:26.666855Z",
     "iopub.status.busy": "2024-10-13T22:53:26.665942Z",
     "iopub.status.idle": "2024-10-13T22:53:26.711146Z",
     "shell.execute_reply": "2024-10-13T22:53:26.709728Z",
     "shell.execute_reply.started": "2024-10-13T22:53:26.666784Z"
    },
    "slideshow": {
     "slide_type": "skip"
    }
   },
   "outputs": [
    {
     "data": {
      "text/html": [
       "<div>\n",
       "<style scoped>\n",
       "    .dataframe tbody tr th:only-of-type {\n",
       "        vertical-align: middle;\n",
       "    }\n",
       "\n",
       "    .dataframe tbody tr th {\n",
       "        vertical-align: top;\n",
       "    }\n",
       "\n",
       "    .dataframe thead th {\n",
       "        text-align: right;\n",
       "    }\n",
       "</style>\n",
       "<table border=\"1\" class=\"dataframe\">\n",
       "  <thead>\n",
       "    <tr style=\"text-align: right;\">\n",
       "      <th></th>\n",
       "      <th>OriginalTweet</th>\n",
       "      <th>Sentiment</th>\n",
       "      <th>text_clean</th>\n",
       "      <th>text_len</th>\n",
       "      <th>token_lens</th>\n",
       "    </tr>\n",
       "  </thead>\n",
       "  <tbody>\n",
       "    <tr>\n",
       "      <th>1638</th>\n",
       "      <td>ZÃ¡sah policie proti spekulant?m s rouÂkami. ...</td>\n",
       "      <td>Neutral</td>\n",
       "      <td>zsah policie proti spekulantm s roukami na mj ...</td>\n",
       "      <td>39</td>\n",
       "      <td>100</td>\n",
       "    </tr>\n",
       "    <tr>\n",
       "      <th>37156</th>\n",
       "      <td>11 Nisan Cumartesi itibariyle ?BBÂnin tÃ¼m hi...</td>\n",
       "      <td>Neutral</td>\n",
       "      <td>11 nisan cumartesi itibariyle bbnin tm hizmetl...</td>\n",
       "      <td>39</td>\n",
       "      <td>98</td>\n",
       "    </tr>\n",
       "    <tr>\n",
       "      <th>16632</th>\n",
       "      <td>Bir mÃ¼ddettir sÃ¼permarketlerin lojistik hizm...</td>\n",
       "      <td>Neutral</td>\n",
       "      <td>bir mddettir spermarketlerin lojistik hizmeti ...</td>\n",
       "      <td>36</td>\n",
       "      <td>92</td>\n",
       "    </tr>\n",
       "    <tr>\n",
       "      <th>13691</th>\n",
       "      <td>Hoy aplaudo a mi segunda familia #AplaudoANues...</td>\n",
       "      <td>Neutral</td>\n",
       "      <td>hoy aplaudo a mi segunda familia aplaudoanuest...</td>\n",
       "      <td>38</td>\n",
       "      <td>84</td>\n",
       "    </tr>\n",
       "    <tr>\n",
       "      <th>27005</th>\n",
       "      <td>Supermercados Econo confirman que un empleado ...</td>\n",
       "      <td>Neutral</td>\n",
       "      <td>supermercados econo confirman que un empleado ...</td>\n",
       "      <td>39</td>\n",
       "      <td>80</td>\n",
       "    </tr>\n",
       "    <tr>\n",
       "      <th>14593</th>\n",
       "      <td>Na, wer war denn da am Werk? Gestern Nachmitta...</td>\n",
       "      <td>Extremely Negative</td>\n",
       "      <td>na wer war denn da am werk gestern nachmittag ...</td>\n",
       "      <td>37</td>\n",
       "      <td>80</td>\n",
       "    </tr>\n",
       "    <tr>\n",
       "      <th>28899</th>\n",
       "      <td>Kindly contact Us bamy global merchandise for ...</td>\n",
       "      <td>Positive</td>\n",
       "      <td>kindly contact us bamy global merchandise for ...</td>\n",
       "      <td>37</td>\n",
       "      <td>80</td>\n",
       "    </tr>\n",
       "    <tr>\n",
       "      <th>11213</th>\n",
       "      <td>Keine WertgegenstÃ¤nde im Fahrzeug lassen! - D...</td>\n",
       "      <td>Negative</td>\n",
       "      <td>keine wertgegenstnde im fahrzeug lassen diesen...</td>\n",
       "      <td>33</td>\n",
       "      <td>79</td>\n",
       "    </tr>\n",
       "    <tr>\n",
       "      <th>4844</th>\n",
       "      <td>Impct of #coronavirus i hve sen hw civilizd pp...</td>\n",
       "      <td>Extremely Negative</td>\n",
       "      <td>impct of coronavirus i hve sen hw civilizd ppl...</td>\n",
       "      <td>48</td>\n",
       "      <td>79</td>\n",
       "    </tr>\n",
       "    <tr>\n",
       "      <th>18913</th>\n",
       "      <td>#CroozefmNews \\r\\r\\nPresident Museveni has ord...</td>\n",
       "      <td>Extremely Negative</td>\n",
       "      <td>croozefmnews president museveni has ordered th...</td>\n",
       "      <td>35</td>\n",
       "      <td>79</td>\n",
       "    </tr>\n",
       "    <tr>\n",
       "      <th>30206</th>\n",
       "      <td>#LDA City Lahore Residential Files Prices Upda...</td>\n",
       "      <td>Neutral</td>\n",
       "      <td>lda city lahore residential files prices updat...</td>\n",
       "      <td>43</td>\n",
       "      <td>78</td>\n",
       "    </tr>\n",
       "    <tr>\n",
       "      <th>26678</th>\n",
       "      <td>Eine wahre #CoronaGeschichte:\\r\\r\\n\\r\\r\\nWenn ...</td>\n",
       "      <td>Neutral</td>\n",
       "      <td>eine wahre coronageschichte wenn dir an der su...</td>\n",
       "      <td>29</td>\n",
       "      <td>78</td>\n",
       "    </tr>\n",
       "    <tr>\n",
       "      <th>12389</th>\n",
       "      <td>Okay, so I just checked the drug prices for #P...</td>\n",
       "      <td>Positive</td>\n",
       "      <td>okay so i just checked the drug prices for pla...</td>\n",
       "      <td>35</td>\n",
       "      <td>77</td>\n",
       "    </tr>\n",
       "    <tr>\n",
       "      <th>1697</th>\n",
       "      <td>I work at a grocery store.\\r\\r\\nWe wont get an...</td>\n",
       "      <td>Positive</td>\n",
       "      <td>i work at a grocery store we wont get any toil...</td>\n",
       "      <td>37</td>\n",
       "      <td>77</td>\n",
       "    </tr>\n",
       "    <tr>\n",
       "      <th>8730</th>\n",
       "      <td>?Bitte anschauen! (1/2)\\r\\r\\n\\r\\r\\nEmotionaler...</td>\n",
       "      <td>Negative</td>\n",
       "      <td>bitte anschauen 12 emotionaler aufruf von geha...</td>\n",
       "      <td>36</td>\n",
       "      <td>77</td>\n",
       "    </tr>\n",
       "    <tr>\n",
       "      <th>14582</th>\n",
       "      <td>hiked prices in the face of the Covid-19 crise...</td>\n",
       "      <td>Negative</td>\n",
       "      <td>hiked prices in the face of the covid19 crises...</td>\n",
       "      <td>47</td>\n",
       "      <td>77</td>\n",
       "    </tr>\n",
       "    <tr>\n",
       "      <th>36305</th>\n",
       "      <td>Sterile disposable anti bacterial wet wipes an...</td>\n",
       "      <td>Negative</td>\n",
       "      <td>sterile disposable anti bacterial wet wipes an...</td>\n",
       "      <td>31</td>\n",
       "      <td>76</td>\n",
       "    </tr>\n",
       "    <tr>\n",
       "      <th>36306</th>\n",
       "      <td>For sell Sterile disposable anti bacterial wet...</td>\n",
       "      <td>Negative</td>\n",
       "      <td>for sell sterile disposable anti bacterial wet...</td>\n",
       "      <td>32</td>\n",
       "      <td>75</td>\n",
       "    </tr>\n",
       "    <tr>\n",
       "      <th>9238</th>\n",
       "      <td>Hi @Zomato I felt hungry loggd in ur app tryd ...</td>\n",
       "      <td>Extremely Positive</td>\n",
       "      <td>hi i felt hungry loggd in ur app tryd to add 4...</td>\n",
       "      <td>55</td>\n",
       "      <td>75</td>\n",
       "    </tr>\n",
       "    <tr>\n",
       "      <th>40778</th>\n",
       "      <td>#Covid_19 2days Stay-at-home activities\\r\\r\\nU...</td>\n",
       "      <td>Neutral</td>\n",
       "      <td>covid19 2days stayathome activities up 630am f...</td>\n",
       "      <td>37</td>\n",
       "      <td>75</td>\n",
       "    </tr>\n",
       "  </tbody>\n",
       "</table>\n",
       "</div>"
      ],
      "text/plain": [
       "                                           OriginalTweet           Sentiment  \\\n",
       "1638   ZÃ¡sah policie proti spekulant?m s rouÂkami. ...             Neutral   \n",
       "37156  11 Nisan Cumartesi itibariyle ?BBÂnin tÃ¼m hi...             Neutral   \n",
       "16632  Bir mÃ¼ddettir sÃ¼permarketlerin lojistik hizm...             Neutral   \n",
       "13691  Hoy aplaudo a mi segunda familia #AplaudoANues...             Neutral   \n",
       "27005  Supermercados Econo confirman que un empleado ...             Neutral   \n",
       "14593  Na, wer war denn da am Werk? Gestern Nachmitta...  Extremely Negative   \n",
       "28899  Kindly contact Us bamy global merchandise for ...            Positive   \n",
       "11213  Keine WertgegenstÃ¤nde im Fahrzeug lassen! - D...            Negative   \n",
       "4844   Impct of #coronavirus i hve sen hw civilizd pp...  Extremely Negative   \n",
       "18913  #CroozefmNews \\r\\r\\nPresident Museveni has ord...  Extremely Negative   \n",
       "30206  #LDA City Lahore Residential Files Prices Upda...             Neutral   \n",
       "26678  Eine wahre #CoronaGeschichte:\\r\\r\\n\\r\\r\\nWenn ...             Neutral   \n",
       "12389  Okay, so I just checked the drug prices for #P...            Positive   \n",
       "1697   I work at a grocery store.\\r\\r\\nWe wont get an...            Positive   \n",
       "8730   ?Bitte anschauen! (1/2)\\r\\r\\n\\r\\r\\nEmotionaler...            Negative   \n",
       "14582  hiked prices in the face of the Covid-19 crise...            Negative   \n",
       "36305  Sterile disposable anti bacterial wet wipes an...            Negative   \n",
       "36306  For sell Sterile disposable anti bacterial wet...            Negative   \n",
       "9238   Hi @Zomato I felt hungry loggd in ur app tryd ...  Extremely Positive   \n",
       "40778  #Covid_19 2days Stay-at-home activities\\r\\r\\nU...             Neutral   \n",
       "\n",
       "                                              text_clean  text_len  token_lens  \n",
       "1638   zsah policie proti spekulantm s roukami na mj ...        39         100  \n",
       "37156  11 nisan cumartesi itibariyle bbnin tm hizmetl...        39          98  \n",
       "16632  bir mddettir spermarketlerin lojistik hizmeti ...        36          92  \n",
       "13691  hoy aplaudo a mi segunda familia aplaudoanuest...        38          84  \n",
       "27005  supermercados econo confirman que un empleado ...        39          80  \n",
       "14593  na wer war denn da am werk gestern nachmittag ...        37          80  \n",
       "28899  kindly contact us bamy global merchandise for ...        37          80  \n",
       "11213  keine wertgegenstnde im fahrzeug lassen diesen...        33          79  \n",
       "4844   impct of coronavirus i hve sen hw civilizd ppl...        48          79  \n",
       "18913  croozefmnews president museveni has ordered th...        35          79  \n",
       "30206  lda city lahore residential files prices updat...        43          78  \n",
       "26678  eine wahre coronageschichte wenn dir an der su...        29          78  \n",
       "12389  okay so i just checked the drug prices for pla...        35          77  \n",
       "1697   i work at a grocery store we wont get any toil...        37          77  \n",
       "8730   bitte anschauen 12 emotionaler aufruf von geha...        36          77  \n",
       "14582  hiked prices in the face of the covid19 crises...        47          77  \n",
       "36305  sterile disposable anti bacterial wet wipes an...        31          76  \n",
       "36306  for sell sterile disposable anti bacterial wet...        32          75  \n",
       "9238   hi i felt hungry loggd in ur app tryd to add 4...        55          75  \n",
       "40778  covid19 2days stayathome activities up 630am f...        37          75  "
      ]
     },
     "execution_count": 51,
     "metadata": {},
     "output_type": "execute_result"
    }
   ],
   "source": [
    "df = df.sort_values(by='token_lens', ascending=False)\n",
    "df.head(20)"
   ]
  },
  {
   "cell_type": "code",
   "execution_count": 52,
   "metadata": {
    "execution": {
     "iopub.execute_input": "2024-10-13T22:53:45.608569Z",
     "iopub.status.busy": "2024-10-13T22:53:45.608115Z",
     "iopub.status.idle": "2024-10-13T22:53:45.622162Z",
     "shell.execute_reply": "2024-10-13T22:53:45.620938Z",
     "shell.execute_reply.started": "2024-10-13T22:53:45.608528Z"
    },
    "slideshow": {
     "slide_type": "slide"
    }
   },
   "outputs": [
    {
     "data": {
      "text/html": [
       "<div>\n",
       "<style scoped>\n",
       "    .dataframe tbody tr th:only-of-type {\n",
       "        vertical-align: middle;\n",
       "    }\n",
       "\n",
       "    .dataframe tbody tr th {\n",
       "        vertical-align: top;\n",
       "    }\n",
       "\n",
       "    .dataframe thead th {\n",
       "        text-align: right;\n",
       "    }\n",
       "</style>\n",
       "<table border=\"1\" class=\"dataframe\">\n",
       "  <thead>\n",
       "    <tr style=\"text-align: right;\">\n",
       "      <th></th>\n",
       "      <th>OriginalTweet</th>\n",
       "      <th>Sentiment</th>\n",
       "      <th>text_clean</th>\n",
       "      <th>text_len</th>\n",
       "      <th>token_lens</th>\n",
       "    </tr>\n",
       "  </thead>\n",
       "  <tbody>\n",
       "    <tr>\n",
       "      <th>12389</th>\n",
       "      <td>Okay, so I just checked the drug prices for #P...</td>\n",
       "      <td>Positive</td>\n",
       "      <td>okay so i just checked the drug prices for pla...</td>\n",
       "      <td>35</td>\n",
       "      <td>77</td>\n",
       "    </tr>\n",
       "    <tr>\n",
       "      <th>1697</th>\n",
       "      <td>I work at a grocery store.\\r\\r\\nWe wont get an...</td>\n",
       "      <td>Positive</td>\n",
       "      <td>i work at a grocery store we wont get any toil...</td>\n",
       "      <td>37</td>\n",
       "      <td>77</td>\n",
       "    </tr>\n",
       "    <tr>\n",
       "      <th>8730</th>\n",
       "      <td>?Bitte anschauen! (1/2)\\r\\r\\n\\r\\r\\nEmotionaler...</td>\n",
       "      <td>Negative</td>\n",
       "      <td>bitte anschauen 12 emotionaler aufruf von geha...</td>\n",
       "      <td>36</td>\n",
       "      <td>77</td>\n",
       "    </tr>\n",
       "    <tr>\n",
       "      <th>14582</th>\n",
       "      <td>hiked prices in the face of the Covid-19 crise...</td>\n",
       "      <td>Negative</td>\n",
       "      <td>hiked prices in the face of the covid19 crises...</td>\n",
       "      <td>47</td>\n",
       "      <td>77</td>\n",
       "    </tr>\n",
       "    <tr>\n",
       "      <th>36305</th>\n",
       "      <td>Sterile disposable anti bacterial wet wipes an...</td>\n",
       "      <td>Negative</td>\n",
       "      <td>sterile disposable anti bacterial wet wipes an...</td>\n",
       "      <td>31</td>\n",
       "      <td>76</td>\n",
       "    </tr>\n",
       "  </tbody>\n",
       "</table>\n",
       "</div>"
      ],
      "text/plain": [
       "                                           OriginalTweet Sentiment  \\\n",
       "12389  Okay, so I just checked the drug prices for #P...  Positive   \n",
       "1697   I work at a grocery store.\\r\\r\\nWe wont get an...  Positive   \n",
       "8730   ?Bitte anschauen! (1/2)\\r\\r\\n\\r\\r\\nEmotionaler...  Negative   \n",
       "14582  hiked prices in the face of the Covid-19 crise...  Negative   \n",
       "36305  Sterile disposable anti bacterial wet wipes an...  Negative   \n",
       "\n",
       "                                              text_clean  text_len  token_lens  \n",
       "12389  okay so i just checked the drug prices for pla...        35          77  \n",
       "1697   i work at a grocery store we wont get any toil...        37          77  \n",
       "8730   bitte anschauen 12 emotionaler aufruf von geha...        36          77  \n",
       "14582  hiked prices in the face of the covid19 crises...        47          77  \n",
       "36305  sterile disposable anti bacterial wet wipes an...        31          76  "
      ]
     },
     "execution_count": 52,
     "metadata": {},
     "output_type": "execute_result"
    }
   ],
   "source": [
    "df = df.iloc[12:]\n",
    "df.head()"
   ]
  },
  {
   "cell_type": "markdown",
   "metadata": {
    "slideshow": {
     "slide_type": "fragment"
    }
   },
   "source": [
    "The dataset looks more clean now. We will shuffle it and reset the index."
   ]
  },
  {
   "cell_type": "code",
   "execution_count": 53,
   "metadata": {
    "execution": {
     "iopub.execute_input": "2024-10-13T22:54:48.394337Z",
     "iopub.status.busy": "2024-10-13T22:54:48.392976Z",
     "iopub.status.idle": "2024-10-13T22:54:48.430745Z",
     "shell.execute_reply": "2024-10-13T22:54:48.429324Z",
     "shell.execute_reply.started": "2024-10-13T22:54:48.394266Z"
    },
    "slideshow": {
     "slide_type": "fragment"
    }
   },
   "outputs": [],
   "source": [
    "df = df.sample(frac=1).reset_index(drop=True)"
   ]
  },
  {
   "cell_type": "code",
   "execution_count": 61,
   "metadata": {
    "execution": {
     "iopub.execute_input": "2024-10-13T23:04:42.133021Z",
     "iopub.status.busy": "2024-10-13T23:04:42.132427Z",
     "iopub.status.idle": "2024-10-13T23:04:42.699291Z",
     "shell.execute_reply": "2024-10-13T23:04:42.697864Z",
     "shell.execute_reply.started": "2024-10-13T23:04:42.132973Z"
    },
    "slideshow": {
     "slide_type": "skip"
    }
   },
   "outputs": [],
   "source": [
    "df.to_csv('covid_19_Cleaned_data.csv')"
   ]
  },
  {
   "cell_type": "markdown",
   "metadata": {},
   "source": [
    "# Test data deeper cleaning"
   ]
  },
  {
   "cell_type": "markdown",
   "metadata": {},
   "source": [
    "We will perform the data cleaning based on the tokenized sentences on the test set."
   ]
  },
  {
   "cell_type": "code",
   "execution_count": 54,
   "metadata": {
    "execution": {
     "iopub.execute_input": "2024-10-13T22:56:59.984402Z",
     "iopub.status.busy": "2024-10-13T22:56:59.983953Z",
     "iopub.status.idle": "2024-10-13T22:57:00.905984Z",
     "shell.execute_reply": "2024-10-13T22:57:00.904815Z",
     "shell.execute_reply.started": "2024-10-13T22:56:59.984364Z"
    }
   },
   "outputs": [],
   "source": [
    "token_lens_test = []\n",
    "\n",
    "for txt in df_test['text_clean'].values:\n",
    "    tokens = tokenizer.encode(txt, max_length=512, truncation=True)\n",
    "    token_lens_test.append(len(tokens))\n",
    "    \n",
    "max_len=np.max(token_lens_test)"
   ]
  },
  {
   "cell_type": "code",
   "execution_count": 55,
   "metadata": {
    "execution": {
     "iopub.execute_input": "2024-10-13T22:57:16.282453Z",
     "iopub.status.busy": "2024-10-13T22:57:16.282002Z",
     "iopub.status.idle": "2024-10-13T22:57:16.289252Z",
     "shell.execute_reply": "2024-10-13T22:57:16.287591Z",
     "shell.execute_reply.started": "2024-10-13T22:57:16.282406Z"
    }
   },
   "outputs": [
    {
     "name": "stdout",
     "output_type": "stream",
     "text": [
      "MAX TOKENIZED SENTENCE LENGTH: 96\n"
     ]
    }
   ],
   "source": [
    "print(f\"MAX TOKENIZED SENTENCE LENGTH: {max_len}\")"
   ]
  },
  {
   "cell_type": "code",
   "execution_count": 56,
   "metadata": {
    "execution": {
     "iopub.execute_input": "2024-10-13T22:57:29.801613Z",
     "iopub.status.busy": "2024-10-13T22:57:29.801151Z",
     "iopub.status.idle": "2024-10-13T22:57:30.731765Z",
     "shell.execute_reply": "2024-10-13T22:57:30.730522Z",
     "shell.execute_reply.started": "2024-10-13T22:57:29.801562Z"
    }
   },
   "outputs": [
    {
     "name": "stdout",
     "output_type": "stream",
     "text": [
      "INDEX: 286, TEXT: so hard to decide as much as i want to hodl my 2 ccdcv4 token our place is declared to lock down due to covid19 i will use this to buy some food to stock txnid093bd1db0c0d3a62af15883138a5f57d4cef35ae14e31e602b74489dd2524c7f my b\n",
      "INDEX: 345, TEXT: informoval jsem zstupce vech obchodnch etzc o aktulnch opatench vldy etzce jsou zsobovny na 95 take nen dvod panikait zsoby potravin fakt nedojdou nen opravdu dvod dnes obsadit a vykoupit supermarkety\n",
      "INDEX: 2383, TEXT: ahora seguid llorando por el papel higinico que no he comprado porque an tengo seguid creando histeria y preocupacin poniendo fotos de gente en pnico y estanteras vacas que yo seguir yendo a comercios responsables de barrio donde nos cuidan hoy y siempre gracias\n"
     ]
    }
   ],
   "source": [
    "token_lens_test = []\n",
    "\n",
    "for i,txt in enumerate(df_test['text_clean'].values):\n",
    "    tokens = tokenizer.encode(txt, max_length=512, truncation=True)\n",
    "    token_lens_test.append(len(tokens))\n",
    "    if len(tokens)>80:\n",
    "        print(f\"INDEX: {i}, TEXT: {txt}\")"
   ]
  },
  {
   "cell_type": "code",
   "execution_count": 57,
   "metadata": {
    "execution": {
     "iopub.execute_input": "2024-10-13T22:57:46.807822Z",
     "iopub.status.busy": "2024-10-13T22:57:46.807374Z",
     "iopub.status.idle": "2024-10-13T22:57:46.815043Z",
     "shell.execute_reply": "2024-10-13T22:57:46.813717Z",
     "shell.execute_reply.started": "2024-10-13T22:57:46.807785Z"
    }
   },
   "outputs": [],
   "source": [
    "df_test['token_lens'] = token_lens_test"
   ]
  },
  {
   "cell_type": "code",
   "execution_count": 58,
   "metadata": {
    "execution": {
     "iopub.execute_input": "2024-10-13T22:58:01.811870Z",
     "iopub.status.busy": "2024-10-13T22:58:01.811386Z",
     "iopub.status.idle": "2024-10-13T22:58:01.828983Z",
     "shell.execute_reply": "2024-10-13T22:58:01.827712Z",
     "shell.execute_reply.started": "2024-10-13T22:58:01.811810Z"
    }
   },
   "outputs": [
    {
     "data": {
      "text/html": [
       "<div>\n",
       "<style scoped>\n",
       "    .dataframe tbody tr th:only-of-type {\n",
       "        vertical-align: middle;\n",
       "    }\n",
       "\n",
       "    .dataframe tbody tr th {\n",
       "        vertical-align: top;\n",
       "    }\n",
       "\n",
       "    .dataframe thead th {\n",
       "        text-align: right;\n",
       "    }\n",
       "</style>\n",
       "<table border=\"1\" class=\"dataframe\">\n",
       "  <thead>\n",
       "    <tr style=\"text-align: right;\">\n",
       "      <th></th>\n",
       "      <th>OriginalTweet</th>\n",
       "      <th>Sentiment</th>\n",
       "      <th>text_clean</th>\n",
       "      <th>text_len</th>\n",
       "      <th>token_lens</th>\n",
       "    </tr>\n",
       "  </thead>\n",
       "  <tbody>\n",
       "    <tr>\n",
       "      <th>286</th>\n",
       "      <td>@Rhett800cc So hard to decide??. As much as I ...</td>\n",
       "      <td>Negative</td>\n",
       "      <td>so hard to decide as much as i want to hodl my...</td>\n",
       "      <td>38</td>\n",
       "      <td>96</td>\n",
       "    </tr>\n",
       "    <tr>\n",
       "      <th>2383</th>\n",
       "      <td>Ahora seguid llorando por el papel higiénico (...</td>\n",
       "      <td>Negative</td>\n",
       "      <td>ahora seguid llorando por el papel higinico qu...</td>\n",
       "      <td>44</td>\n",
       "      <td>94</td>\n",
       "    </tr>\n",
       "    <tr>\n",
       "      <th>345</th>\n",
       "      <td>Informoval jsem zástupce vech obchodních ?et?...</td>\n",
       "      <td>Neutral</td>\n",
       "      <td>informoval jsem zstupce vech obchodnch etzc o ...</td>\n",
       "      <td>31</td>\n",
       "      <td>86</td>\n",
       "    </tr>\n",
       "    <tr>\n",
       "      <th>1485</th>\n",
       "      <td>DTF-Dont Touch Face\\r\\r\\nDWBH-Do Wash Both Ha...</td>\n",
       "      <td>Extremely Negative</td>\n",
       "      <td>dtfdont touch face dwbhdo wash both hands gtfo...</td>\n",
       "      <td>42</td>\n",
       "      <td>77</td>\n",
       "    </tr>\n",
       "    <tr>\n",
       "      <th>1209</th>\n",
       "      <td>Im in the DC/Maryland/Virginia (DMV) area &amp;am...</td>\n",
       "      <td>Positive</td>\n",
       "      <td>im in the dcmarylandvirginia dmv area amphave ...</td>\n",
       "      <td>45</td>\n",
       "      <td>74</td>\n",
       "    </tr>\n",
       "    <tr>\n",
       "      <th>3505</th>\n",
       "      <td>Stop misusing ur privilege amp grow up Some1 c...</td>\n",
       "      <td>Positive</td>\n",
       "      <td>stop misusing ur privilege amp grow up some1 c...</td>\n",
       "      <td>57</td>\n",
       "      <td>73</td>\n",
       "    </tr>\n",
       "    <tr>\n",
       "      <th>1789</th>\n",
       "      <td>For those that are cashlong, patient,calm&amp;amp;...</td>\n",
       "      <td>Extremely Positive</td>\n",
       "      <td>for those that are cashlong patientcalmamphave...</td>\n",
       "      <td>44</td>\n",
       "      <td>71</td>\n",
       "    </tr>\n",
       "    <tr>\n",
       "      <th>2997</th>\n",
       "      <td>Stop #frenzybuying. You don't need most of wha...</td>\n",
       "      <td>Extremely Negative</td>\n",
       "      <td>stop frenzybuying you dont need most of what y...</td>\n",
       "      <td>38</td>\n",
       "      <td>70</td>\n",
       "    </tr>\n",
       "    <tr>\n",
       "      <th>855</th>\n",
       "      <td>Lidl is total chaos, queues as long as the ais...</td>\n",
       "      <td>Extremely Negative</td>\n",
       "      <td>lidl is total chaos queues as long as the aisl...</td>\n",
       "      <td>62</td>\n",
       "      <td>70</td>\n",
       "    </tr>\n",
       "    <tr>\n",
       "      <th>2740</th>\n",
       "      <td>COVID-19: Your government will save ITSELF not...</td>\n",
       "      <td>Positive</td>\n",
       "      <td>covid19 your government will save itself not y...</td>\n",
       "      <td>43</td>\n",
       "      <td>70</td>\n",
       "    </tr>\n",
       "  </tbody>\n",
       "</table>\n",
       "</div>"
      ],
      "text/plain": [
       "                                          OriginalTweet           Sentiment  \\\n",
       "286   @Rhett800cc So hard to decide??. As much as I ...            Negative   \n",
       "2383  Ahora seguid llorando por el papel higiénico (...            Negative   \n",
       "345   Informoval jsem zástupce vech obchodních ?et?...             Neutral   \n",
       "1485  DTF-Dont Touch Face\\r\\r\\nDWBH-Do Wash Both Ha...  Extremely Negative   \n",
       "1209  Im in the DC/Maryland/Virginia (DMV) area &am...            Positive   \n",
       "3505  Stop misusing ur privilege amp grow up Some1 c...            Positive   \n",
       "1789  For those that are cashlong, patient,calm&amp;...  Extremely Positive   \n",
       "2997  Stop #frenzybuying. You don't need most of wha...  Extremely Negative   \n",
       "855   Lidl is total chaos, queues as long as the ais...  Extremely Negative   \n",
       "2740  COVID-19: Your government will save ITSELF not...            Positive   \n",
       "\n",
       "                                             text_clean  text_len  token_lens  \n",
       "286   so hard to decide as much as i want to hodl my...        38          96  \n",
       "2383  ahora seguid llorando por el papel higinico qu...        44          94  \n",
       "345   informoval jsem zstupce vech obchodnch etzc o ...        31          86  \n",
       "1485  dtfdont touch face dwbhdo wash both hands gtfo...        42          77  \n",
       "1209  im in the dcmarylandvirginia dmv area amphave ...        45          74  \n",
       "3505  stop misusing ur privilege amp grow up some1 c...        57          73  \n",
       "1789  for those that are cashlong patientcalmamphave...        44          71  \n",
       "2997  stop frenzybuying you dont need most of what y...        38          70  \n",
       "855   lidl is total chaos queues as long as the aisl...        62          70  \n",
       "2740  covid19 your government will save itself not y...        43          70  "
      ]
     },
     "execution_count": 58,
     "metadata": {},
     "output_type": "execute_result"
    }
   ],
   "source": [
    "df_test = df_test.sort_values(by='token_lens', ascending=False)\n",
    "df_test.head(10) "
   ]
  },
  {
   "cell_type": "code",
   "execution_count": 59,
   "metadata": {
    "execution": {
     "iopub.execute_input": "2024-10-13T22:58:59.653628Z",
     "iopub.status.busy": "2024-10-13T22:58:59.653093Z",
     "iopub.status.idle": "2024-10-13T22:58:59.668180Z",
     "shell.execute_reply": "2024-10-13T22:58:59.666766Z",
     "shell.execute_reply.started": "2024-10-13T22:58:59.653579Z"
    }
   },
   "outputs": [
    {
     "data": {
      "text/html": [
       "<div>\n",
       "<style scoped>\n",
       "    .dataframe tbody tr th:only-of-type {\n",
       "        vertical-align: middle;\n",
       "    }\n",
       "\n",
       "    .dataframe tbody tr th {\n",
       "        vertical-align: top;\n",
       "    }\n",
       "\n",
       "    .dataframe thead th {\n",
       "        text-align: right;\n",
       "    }\n",
       "</style>\n",
       "<table border=\"1\" class=\"dataframe\">\n",
       "  <thead>\n",
       "    <tr style=\"text-align: right;\">\n",
       "      <th></th>\n",
       "      <th>OriginalTweet</th>\n",
       "      <th>Sentiment</th>\n",
       "      <th>text_clean</th>\n",
       "      <th>text_len</th>\n",
       "      <th>token_lens</th>\n",
       "    </tr>\n",
       "  </thead>\n",
       "  <tbody>\n",
       "    <tr>\n",
       "      <th>3505</th>\n",
       "      <td>Stop misusing ur privilege amp grow up Some1 c...</td>\n",
       "      <td>Positive</td>\n",
       "      <td>stop misusing ur privilege amp grow up some1 c...</td>\n",
       "      <td>57</td>\n",
       "      <td>73</td>\n",
       "    </tr>\n",
       "    <tr>\n",
       "      <th>1789</th>\n",
       "      <td>For those that are cashlong, patient,calm&amp;amp;...</td>\n",
       "      <td>Extremely Positive</td>\n",
       "      <td>for those that are cashlong patientcalmamphave...</td>\n",
       "      <td>44</td>\n",
       "      <td>71</td>\n",
       "    </tr>\n",
       "    <tr>\n",
       "      <th>2997</th>\n",
       "      <td>Stop #frenzybuying. You don't need most of wha...</td>\n",
       "      <td>Extremely Negative</td>\n",
       "      <td>stop frenzybuying you dont need most of what y...</td>\n",
       "      <td>38</td>\n",
       "      <td>70</td>\n",
       "    </tr>\n",
       "  </tbody>\n",
       "</table>\n",
       "</div>"
      ],
      "text/plain": [
       "                                          OriginalTweet           Sentiment  \\\n",
       "3505  Stop misusing ur privilege amp grow up Some1 c...            Positive   \n",
       "1789  For those that are cashlong, patient,calm&amp;...  Extremely Positive   \n",
       "2997  Stop #frenzybuying. You don't need most of wha...  Extremely Negative   \n",
       "\n",
       "                                             text_clean  text_len  token_lens  \n",
       "3505  stop misusing ur privilege amp grow up some1 c...        57          73  \n",
       "1789  for those that are cashlong patientcalmamphave...        44          71  \n",
       "2997  stop frenzybuying you dont need most of what y...        38          70  "
      ]
     },
     "execution_count": 59,
     "metadata": {},
     "output_type": "execute_result"
    }
   ],
   "source": [
    "df_test = df_test.iloc[5:]\n",
    "df_test.head(3)"
   ]
  },
  {
   "cell_type": "code",
   "execution_count": 60,
   "metadata": {
    "execution": {
     "iopub.execute_input": "2024-10-13T23:00:37.882321Z",
     "iopub.status.busy": "2024-10-13T23:00:37.881808Z",
     "iopub.status.idle": "2024-10-13T23:00:37.892727Z",
     "shell.execute_reply": "2024-10-13T23:00:37.891417Z",
     "shell.execute_reply.started": "2024-10-13T23:00:37.882267Z"
    }
   },
   "outputs": [],
   "source": [
    "df_test = df_test.sample(frac=1).reset_index(drop=True)"
   ]
  },
  {
   "cell_type": "code",
   "execution_count": 62,
   "metadata": {
    "execution": {
     "iopub.execute_input": "2024-10-13T23:06:06.531699Z",
     "iopub.status.busy": "2024-10-13T23:06:06.531222Z",
     "iopub.status.idle": "2024-10-13T23:06:06.595871Z",
     "shell.execute_reply": "2024-10-13T23:06:06.594366Z",
     "shell.execute_reply.started": "2024-10-13T23:06:06.531657Z"
    }
   },
   "outputs": [],
   "source": [
    "df_test.to_csv('Covid_19_Cleaned_TestData.csv')"
   ]
  }
 ],
 "metadata": {
  "kaggle": {
   "accelerator": "none",
   "dataSources": [
    {
     "datasetId": 863934,
     "sourceId": 1472453,
     "sourceType": "datasetVersion"
    }
   ],
   "dockerImageVersionId": 30786,
   "isGpuEnabled": false,
   "isInternetEnabled": true,
   "language": "python",
   "sourceType": "notebook"
  },
  "kernelspec": {
   "display_name": "Python 3 (ipykernel)",
   "language": "python",
   "name": "python3"
  },
  "language_info": {
   "codemirror_mode": {
    "name": "ipython",
    "version": 3
   },
   "file_extension": ".py",
   "mimetype": "text/x-python",
   "name": "python",
   "nbconvert_exporter": "python",
   "pygments_lexer": "ipython3",
   "version": "3.9.7"
  }
 },
 "nbformat": 4,
 "nbformat_minor": 4
}
